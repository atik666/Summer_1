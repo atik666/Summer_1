{
 "cells": [
  {
   "cell_type": "code",
   "execution_count": 5,
   "metadata": {
    "ExecuteTime": {
     "end_time": "2020-03-01T06:48:09.450393Z",
     "start_time": "2020-03-01T06:48:09.123812Z"
    }
   },
   "outputs": [],
   "source": [
    "import torch\n",
    "import numpy as np\n",
    "import os\n",
    "import zipfile\n",
    "\n",
    "root_path = '/home/admin1/Documents/Atik/Meta_Learning/MAML-Pytorch/datasets'\n",
    "processed_folder =  os.path.join(root_path)\n",
    "\n",
    "zip_ref = zipfile.ZipFile(os.path.join(root_path,'omniglot_standard.zip'), 'r')\n",
    "zip_ref.extractall(root_path)\n",
    "zip_ref.close()\n",
    "\n",
    "root_dir = './../datasets/omniglot/python'\n"
   ]
  },
  {
   "cell_type": "code",
   "execution_count": 2,
   "metadata": {},
   "outputs": [
    {
     "ename": "NameError",
     "evalue": "name 'root_dir' is not defined",
     "output_type": "error",
     "traceback": [
      "\u001b[0;31m---------------------------------------------------------------------------\u001b[0m",
      "\u001b[0;31mNameError\u001b[0m                                 Traceback (most recent call last)",
      "Input \u001b[0;32mIn [2]\u001b[0m, in \u001b[0;36m<cell line: 34>\u001b[0;34m()\u001b[0m\n\u001b[1;32m     30\u001b[0m     \u001b[38;5;28mprint\u001b[39m(\u001b[38;5;124m'\u001b[39m\u001b[38;5;124m== Found \u001b[39m\u001b[38;5;132;01m{}\u001b[39;00m\u001b[38;5;124m classes\u001b[39m\u001b[38;5;124m'\u001b[39m\u001b[38;5;241m.\u001b[39mformat(\u001b[38;5;28mlen\u001b[39m(class_idx)))\n\u001b[1;32m     31\u001b[0m     \u001b[38;5;28;01mreturn\u001b[39;00m class_idx\n\u001b[0;32m---> 34\u001b[0m img_items \u001b[38;5;241m=\u001b[39m  find_classes(\u001b[43mroot_dir\u001b[49m)\n\u001b[1;32m     35\u001b[0m class_idx \u001b[38;5;241m=\u001b[39m index_classes(img_items)\n\u001b[1;32m     38\u001b[0m temp \u001b[38;5;241m=\u001b[39m \u001b[38;5;28mdict\u001b[39m()\n",
      "\u001b[0;31mNameError\u001b[0m: name 'root_dir' is not defined"
     ]
    }
   ],
   "source": [
    "# 数据预处理\n",
    "\n",
    "import torchvision.transforms as transforms\n",
    "from PIL import Image\n",
    "\n",
    "'''\n",
    "an example of img_items:\n",
    "( '0709_17.png',\n",
    "  'Alphabet_of_the_Magi/character01',\n",
    "  './../datasets/omniglot/python/images_background/Alphabet_of_the_Magi/character01')\n",
    "'''\n",
    "def find_classes(root_dir):\n",
    "    img_items = []\n",
    "    for (root, dirs, files) in os.walk(root_dir): \n",
    "        for file in files:\n",
    "            if (file.endswith(\"png\")):\n",
    "                r = root.split('/')\n",
    "                img_items.append((file, r[-2] + \"/\" + r[-1], root))\n",
    "    print(\"== Found %d items \" % len(img_items))\n",
    "    return img_items\n",
    "\n",
    "## 构建一个词典{class:idx}\n",
    "def index_classes(items):\n",
    "    class_idx = {}\n",
    "    count = 0\n",
    "    for item in items:\n",
    "        if item[1] not in class_idx:\n",
    "            class_idx[item[1]] = count\n",
    "            count += 1\n",
    "    print('== Found {} classes'.format(len(class_idx)))\n",
    "    return class_idx"
   ]
  },
  {
   "cell_type": "code",
   "execution_count": null,
   "metadata": {},
   "outputs": [],
   "source": []
  }
 ],
 "metadata": {
  "kernelspec": {
   "display_name": "Python 3 (ipykernel)",
   "language": "python",
   "name": "python3"
  },
  "language_info": {
   "codemirror_mode": {
    "name": "ipython",
    "version": 3
   },
   "file_extension": ".py",
   "mimetype": "text/x-python",
   "name": "python",
   "nbconvert_exporter": "python",
   "pygments_lexer": "ipython3",
   "version": "3.9.12"
  }
 },
 "nbformat": 4,
 "nbformat_minor": 2
}
