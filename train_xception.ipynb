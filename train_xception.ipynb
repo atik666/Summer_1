{
 "cells": [
  {
   "cell_type": "code",
   "execution_count": 1,
   "metadata": {},
   "outputs": [],
   "source": [
    "%load_ext autoreload\n",
    "%autoreload 2"
   ]
  },
  {
   "cell_type": "code",
   "execution_count": 2,
   "metadata": {},
   "outputs": [],
   "source": [
    "import numpy as np\n",
    "\n",
    "import keras\n",
    "from keras import optimizers\n",
    "from keras.losses import categorical_crossentropy as logloss\n",
    "from keras.callbacks import ReduceLROnPlateau, EarlyStopping\n",
    "from keras.preprocessing.image import ImageDataGenerator\n",
    "from keras import backend as K\n",
    "\n",
    "import matplotlib.pyplot as plt\n",
    "%matplotlib inline\n",
    "\n",
    "from xception import Xception, preprocess_input"
   ]
  },
  {
   "cell_type": "code",
   "execution_count": 3,
   "metadata": {},
   "outputs": [],
   "source": [
    "data_dir = \"/home/atik/Documents/Summer_1/data/\""
   ]
  },
  {
   "cell_type": "code",
   "execution_count": 4,
   "metadata": {},
   "outputs": [
    {
     "name": "stdout",
     "output_type": "stream",
     "text": [
      "Found 25600 images belonging to 256 classes.\n",
      "Found 5120 images belonging to 256 classes.\n"
     ]
    }
   ],
   "source": [
    "data_generator = ImageDataGenerator(\n",
    "    rotation_range=30, \n",
    "    zoom_range=0.3,\n",
    "    horizontal_flip=True, \n",
    "    width_shift_range=0.2,\n",
    "    height_shift_range=0.2,\n",
    "    shear_range=0.001,\n",
    "    channel_shift_range=0.1,\n",
    "    fill_mode='reflect',\n",
    "    data_format='channels_last',\n",
    "    preprocessing_function=preprocess_input\n",
    ")\n",
    "\n",
    "data_generator_val = ImageDataGenerator(\n",
    "    data_format='channels_last',\n",
    "    preprocessing_function=preprocess_input\n",
    ")\n",
    "\n",
    "train_generator = data_generator.flow_from_directory(\n",
    "    data_dir + \"/train/\",\n",
    "    target_size=(299, 299),\n",
    "    batch_size=64, shuffle=False\n",
    ")\n",
    "\n",
    "val_generator = data_generator_val.flow_from_directory(\n",
    "    data_dir +\"/val/\",\n",
    "    target_size=(299, 299),\n",
    "    batch_size=64, shuffle=False\n",
    ")"
   ]
  },
  {
   "cell_type": "markdown",
   "metadata": {},
   "source": [
    "# Model"
   ]
  },
  {
   "cell_type": "code",
   "execution_count": 5,
   "metadata": {},
   "outputs": [
    {
     "name": "stderr",
     "output_type": "stream",
     "text": [
      "2022-05-27 12:43:18.653688: I tensorflow/stream_executor/cuda/cuda_gpu_executor.cc:975] successful NUMA node read from SysFS had negative value (-1), but there must be at least one NUMA node, so returning NUMA node zero\n",
      "2022-05-27 12:43:18.671091: I tensorflow/stream_executor/cuda/cuda_gpu_executor.cc:975] successful NUMA node read from SysFS had negative value (-1), but there must be at least one NUMA node, so returning NUMA node zero\n",
      "2022-05-27 12:43:18.671413: I tensorflow/stream_executor/cuda/cuda_gpu_executor.cc:975] successful NUMA node read from SysFS had negative value (-1), but there must be at least one NUMA node, so returning NUMA node zero\n",
      "2022-05-27 12:43:18.672204: I tensorflow/core/platform/cpu_feature_guard.cc:193] This TensorFlow binary is optimized with oneAPI Deep Neural Network Library (oneDNN) to use the following CPU instructions in performance-critical operations:  AVX2 FMA\n",
      "To enable them in other operations, rebuild TensorFlow with the appropriate compiler flags.\n",
      "2022-05-27 12:43:18.672759: I tensorflow/stream_executor/cuda/cuda_gpu_executor.cc:975] successful NUMA node read from SysFS had negative value (-1), but there must be at least one NUMA node, so returning NUMA node zero\n",
      "2022-05-27 12:43:18.673053: I tensorflow/stream_executor/cuda/cuda_gpu_executor.cc:975] successful NUMA node read from SysFS had negative value (-1), but there must be at least one NUMA node, so returning NUMA node zero\n",
      "2022-05-27 12:43:18.673336: I tensorflow/stream_executor/cuda/cuda_gpu_executor.cc:975] successful NUMA node read from SysFS had negative value (-1), but there must be at least one NUMA node, so returning NUMA node zero\n",
      "2022-05-27 12:43:19.147879: I tensorflow/stream_executor/cuda/cuda_gpu_executor.cc:975] successful NUMA node read from SysFS had negative value (-1), but there must be at least one NUMA node, so returning NUMA node zero\n",
      "2022-05-27 12:43:19.148185: I tensorflow/stream_executor/cuda/cuda_gpu_executor.cc:975] successful NUMA node read from SysFS had negative value (-1), but there must be at least one NUMA node, so returning NUMA node zero\n",
      "2022-05-27 12:43:19.148452: I tensorflow/stream_executor/cuda/cuda_gpu_executor.cc:975] successful NUMA node read from SysFS had negative value (-1), but there must be at least one NUMA node, so returning NUMA node zero\n",
      "2022-05-27 12:43:19.148708: I tensorflow/core/common_runtime/gpu/gpu_device.cc:1532] Created device /job:localhost/replica:0/task:0/device:GPU:0 with 10091 MB memory:  -> device: 0, name: NVIDIA GeForce RTX 3080 Ti, pci bus id: 0000:01:00.0, compute capability: 8.6\n"
     ]
    },
    {
     "data": {
      "text/plain": [
       "21386024"
      ]
     },
     "execution_count": 5,
     "metadata": {},
     "output_type": "execute_result"
    }
   ],
   "source": [
    "model = Xception(weight_decay=1e-5)\n",
    "model.count_params()"
   ]
  },
  {
   "cell_type": "markdown",
   "metadata": {},
   "source": [
    "# Training"
   ]
  },
  {
   "cell_type": "code",
   "execution_count": 6,
   "metadata": {},
   "outputs": [],
   "source": [
    "# add entropy to the usual logloss (it is for regularization),\n",
    "# \"Regularizing Neural Networks by Penalizing Confident Output Distributions\",\n",
    "# https://arxiv.org/abs/1701.06548\n",
    "# it reduces overfitting a little bit\n",
    "def loss(y_true, y_pred):\n",
    "    entropy = -K.mean(K.sum(y_pred*K.log(y_pred), 1))\n",
    "    beta = 0.1\n",
    "    return logloss(y_true, y_pred) - beta*entropy"
   ]
  },
  {
   "cell_type": "code",
   "execution_count": 7,
   "metadata": {},
   "outputs": [],
   "source": [
    "model.compile(\n",
    "    optimizer=optimizers.SGD(learning_rate=1e-2, momentum=0.9, nesterov=True), \n",
    "    loss=loss, metrics=['categorical_crossentropy', 'accuracy', 'top_k_categorical_accuracy']\n",
    ")"
   ]
  },
  {
   "cell_type": "code",
   "execution_count": 19,
   "metadata": {
    "scrolled": true
   },
   "outputs": [
    {
     "name": "stdout",
     "output_type": "stream",
     "text": [
      "WARNING:tensorflow:`epsilon` argument is deprecated and will be removed, use `min_delta` instead.\n"
     ]
    },
    {
     "name": "stderr",
     "output_type": "stream",
     "text": [
      "/tmp/ipykernel_2747/3415227576.py:1: UserWarning: `Model.fit_generator` is deprecated and will be removed in a future version. Please use `Model.fit`, which supports generators.\n",
      "  model.fit_generator(\n"
     ]
    },
    {
     "name": "stdout",
     "output_type": "stream",
     "text": [
      "Epoch 1/30\n",
      "266/266 [==============================] - ETA: 0s - loss: 2.7093 - categorical_crossentropy: 3.0844 - accuracy: 0.4824 - top_k_categorical_accuracy: 0.6818WARNING:tensorflow:Learning rate reduction is conditioned on metric `val_acc` which is not available. Available metrics are: loss,categorical_crossentropy,accuracy,top_k_categorical_accuracy,val_loss,val_categorical_crossentropy,val_accuracy,val_top_k_categorical_accuracy,lr\n",
      "WARNING:tensorflow:Early stopping conditioned on metric `val_acc` which is not available. Available metrics are: loss,categorical_crossentropy,accuracy,top_k_categorical_accuracy,val_loss,val_categorical_crossentropy,val_accuracy,val_top_k_categorical_accuracy,lr\n",
      "266/266 [==============================] - 67s 248ms/step - loss: 2.7093 - categorical_crossentropy: 3.0844 - accuracy: 0.4824 - top_k_categorical_accuracy: 0.6818 - val_loss: 1.0808 - val_categorical_crossentropy: 1.2601 - val_accuracy: 0.7711 - val_top_k_categorical_accuracy: 0.9318 - lr: 1.0000e-05\n",
      "Epoch 2/30\n",
      "266/266 [==============================] - ETA: 0s - loss: 2.6787 - categorical_crossentropy: 3.0529 - accuracy: 0.4867 - top_k_categorical_accuracy: 0.6937WARNING:tensorflow:Learning rate reduction is conditioned on metric `val_acc` which is not available. Available metrics are: loss,categorical_crossentropy,accuracy,top_k_categorical_accuracy,val_loss,val_categorical_crossentropy,val_accuracy,val_top_k_categorical_accuracy,lr\n",
      "WARNING:tensorflow:Early stopping conditioned on metric `val_acc` which is not available. Available metrics are: loss,categorical_crossentropy,accuracy,top_k_categorical_accuracy,val_loss,val_categorical_crossentropy,val_accuracy,val_top_k_categorical_accuracy,lr\n",
      "266/266 [==============================] - 67s 251ms/step - loss: 2.6787 - categorical_crossentropy: 3.0529 - accuracy: 0.4867 - top_k_categorical_accuracy: 0.6937 - val_loss: 1.0925 - val_categorical_crossentropy: 1.2763 - val_accuracy: 0.7713 - val_top_k_categorical_accuracy: 0.9326 - lr: 1.0000e-05\n",
      "Epoch 3/30\n",
      "266/266 [==============================] - ETA: 0s - loss: 2.6955 - categorical_crossentropy: 3.0704 - accuracy: 0.4842 - top_k_categorical_accuracy: 0.6857WARNING:tensorflow:Learning rate reduction is conditioned on metric `val_acc` which is not available. Available metrics are: loss,categorical_crossentropy,accuracy,top_k_categorical_accuracy,val_loss,val_categorical_crossentropy,val_accuracy,val_top_k_categorical_accuracy,lr\n",
      "WARNING:tensorflow:Early stopping conditioned on metric `val_acc` which is not available. Available metrics are: loss,categorical_crossentropy,accuracy,top_k_categorical_accuracy,val_loss,val_categorical_crossentropy,val_accuracy,val_top_k_categorical_accuracy,lr\n",
      "266/266 [==============================] - 69s 257ms/step - loss: 2.6955 - categorical_crossentropy: 3.0704 - accuracy: 0.4842 - top_k_categorical_accuracy: 0.6857 - val_loss: 1.1167 - val_categorical_crossentropy: 1.3087 - val_accuracy: 0.7723 - val_top_k_categorical_accuracy: 0.9316 - lr: 1.0000e-05\n",
      "Epoch 4/30\n",
      "266/266 [==============================] - ETA: 0s - loss: 2.6767 - categorical_crossentropy: 3.0509 - accuracy: 0.4872 - top_k_categorical_accuracy: 0.6887WARNING:tensorflow:Learning rate reduction is conditioned on metric `val_acc` which is not available. Available metrics are: loss,categorical_crossentropy,accuracy,top_k_categorical_accuracy,val_loss,val_categorical_crossentropy,val_accuracy,val_top_k_categorical_accuracy,lr\n",
      "WARNING:tensorflow:Early stopping conditioned on metric `val_acc` which is not available. Available metrics are: loss,categorical_crossentropy,accuracy,top_k_categorical_accuracy,val_loss,val_categorical_crossentropy,val_accuracy,val_top_k_categorical_accuracy,lr\n",
      "266/266 [==============================] - 69s 256ms/step - loss: 2.6767 - categorical_crossentropy: 3.0509 - accuracy: 0.4872 - top_k_categorical_accuracy: 0.6887 - val_loss: 1.1062 - val_categorical_crossentropy: 1.2947 - val_accuracy: 0.7713 - val_top_k_categorical_accuracy: 0.9316 - lr: 1.0000e-05\n",
      "Epoch 5/30\n",
      "266/266 [==============================] - ETA: 0s - loss: 2.6391 - categorical_crossentropy: 3.0100 - accuracy: 0.4964 - top_k_categorical_accuracy: 0.6970WARNING:tensorflow:Learning rate reduction is conditioned on metric `val_acc` which is not available. Available metrics are: loss,categorical_crossentropy,accuracy,top_k_categorical_accuracy,val_loss,val_categorical_crossentropy,val_accuracy,val_top_k_categorical_accuracy,lr\n",
      "WARNING:tensorflow:Early stopping conditioned on metric `val_acc` which is not available. Available metrics are: loss,categorical_crossentropy,accuracy,top_k_categorical_accuracy,val_loss,val_categorical_crossentropy,val_accuracy,val_top_k_categorical_accuracy,lr\n",
      "266/266 [==============================] - 69s 257ms/step - loss: 2.6391 - categorical_crossentropy: 3.0100 - accuracy: 0.4964 - top_k_categorical_accuracy: 0.6970 - val_loss: 1.0946 - val_categorical_crossentropy: 1.2793 - val_accuracy: 0.7711 - val_top_k_categorical_accuracy: 0.9318 - lr: 1.0000e-05\n",
      "Epoch 6/30\n",
      "266/266 [==============================] - ETA: 0s - loss: 2.6986 - categorical_crossentropy: 3.0747 - accuracy: 0.4828 - top_k_categorical_accuracy: 0.6886WARNING:tensorflow:Learning rate reduction is conditioned on metric `val_acc` which is not available. Available metrics are: loss,categorical_crossentropy,accuracy,top_k_categorical_accuracy,val_loss,val_categorical_crossentropy,val_accuracy,val_top_k_categorical_accuracy,lr\n",
      "WARNING:tensorflow:Early stopping conditioned on metric `val_acc` which is not available. Available metrics are: loss,categorical_crossentropy,accuracy,top_k_categorical_accuracy,val_loss,val_categorical_crossentropy,val_accuracy,val_top_k_categorical_accuracy,lr\n",
      "266/266 [==============================] - 69s 259ms/step - loss: 2.6986 - categorical_crossentropy: 3.0747 - accuracy: 0.4828 - top_k_categorical_accuracy: 0.6886 - val_loss: 1.1137 - val_categorical_crossentropy: 1.3047 - val_accuracy: 0.7711 - val_top_k_categorical_accuracy: 0.9314 - lr: 1.0000e-05\n",
      "Epoch 7/30\n",
      "266/266 [==============================] - ETA: 0s - loss: 2.6339 - categorical_crossentropy: 3.0060 - accuracy: 0.4981 - top_k_categorical_accuracy: 0.6986WARNING:tensorflow:Learning rate reduction is conditioned on metric `val_acc` which is not available. Available metrics are: loss,categorical_crossentropy,accuracy,top_k_categorical_accuracy,val_loss,val_categorical_crossentropy,val_accuracy,val_top_k_categorical_accuracy,lr\n",
      "WARNING:tensorflow:Early stopping conditioned on metric `val_acc` which is not available. Available metrics are: loss,categorical_crossentropy,accuracy,top_k_categorical_accuracy,val_loss,val_categorical_crossentropy,val_accuracy,val_top_k_categorical_accuracy,lr\n",
      "266/266 [==============================] - 70s 260ms/step - loss: 2.6339 - categorical_crossentropy: 3.0060 - accuracy: 0.4981 - top_k_categorical_accuracy: 0.6986 - val_loss: 1.1025 - val_categorical_crossentropy: 1.2900 - val_accuracy: 0.7719 - val_top_k_categorical_accuracy: 0.9316 - lr: 1.0000e-05\n",
      "Epoch 8/30\n",
      "266/266 [==============================] - ETA: 0s - loss: 2.6520 - categorical_crossentropy: 3.0240 - accuracy: 0.4954 - top_k_categorical_accuracy: 0.6961WARNING:tensorflow:Learning rate reduction is conditioned on metric `val_acc` which is not available. Available metrics are: loss,categorical_crossentropy,accuracy,top_k_categorical_accuracy,val_loss,val_categorical_crossentropy,val_accuracy,val_top_k_categorical_accuracy,lr\n",
      "WARNING:tensorflow:Early stopping conditioned on metric `val_acc` which is not available. Available metrics are: loss,categorical_crossentropy,accuracy,top_k_categorical_accuracy,val_loss,val_categorical_crossentropy,val_accuracy,val_top_k_categorical_accuracy,lr\n",
      "266/266 [==============================] - 69s 259ms/step - loss: 2.6520 - categorical_crossentropy: 3.0240 - accuracy: 0.4954 - top_k_categorical_accuracy: 0.6961 - val_loss: 1.0965 - val_categorical_crossentropy: 1.2820 - val_accuracy: 0.7711 - val_top_k_categorical_accuracy: 0.9320 - lr: 1.0000e-05\n",
      "Epoch 9/30\n"
     ]
    },
    {
     "name": "stdout",
     "output_type": "stream",
     "text": [
      "266/266 [==============================] - ETA: 0s - loss: 2.6613 - categorical_crossentropy: 3.0323 - accuracy: 0.4840 - top_k_categorical_accuracy: 0.6955WARNING:tensorflow:Learning rate reduction is conditioned on metric `val_acc` which is not available. Available metrics are: loss,categorical_crossentropy,accuracy,top_k_categorical_accuracy,val_loss,val_categorical_crossentropy,val_accuracy,val_top_k_categorical_accuracy,lr\n",
      "WARNING:tensorflow:Early stopping conditioned on metric `val_acc` which is not available. Available metrics are: loss,categorical_crossentropy,accuracy,top_k_categorical_accuracy,val_loss,val_categorical_crossentropy,val_accuracy,val_top_k_categorical_accuracy,lr\n",
      "266/266 [==============================] - 69s 255ms/step - loss: 2.6613 - categorical_crossentropy: 3.0323 - accuracy: 0.4840 - top_k_categorical_accuracy: 0.6955 - val_loss: 1.0905 - val_categorical_crossentropy: 1.2737 - val_accuracy: 0.7721 - val_top_k_categorical_accuracy: 0.9314 - lr: 1.0000e-05\n",
      "Epoch 10/30\n",
      "266/266 [==============================] - ETA: 0s - loss: 2.6954 - categorical_crossentropy: 3.0683 - accuracy: 0.4821 - top_k_categorical_accuracy: 0.6819WARNING:tensorflow:Learning rate reduction is conditioned on metric `val_acc` which is not available. Available metrics are: loss,categorical_crossentropy,accuracy,top_k_categorical_accuracy,val_loss,val_categorical_crossentropy,val_accuracy,val_top_k_categorical_accuracy,lr\n",
      "WARNING:tensorflow:Early stopping conditioned on metric `val_acc` which is not available. Available metrics are: loss,categorical_crossentropy,accuracy,top_k_categorical_accuracy,val_loss,val_categorical_crossentropy,val_accuracy,val_top_k_categorical_accuracy,lr\n",
      "266/266 [==============================] - 69s 257ms/step - loss: 2.6954 - categorical_crossentropy: 3.0683 - accuracy: 0.4821 - top_k_categorical_accuracy: 0.6819 - val_loss: 1.0918 - val_categorical_crossentropy: 1.2754 - val_accuracy: 0.7717 - val_top_k_categorical_accuracy: 0.9320 - lr: 1.0000e-05\n",
      "Epoch 11/30\n",
      "266/266 [==============================] - ETA: 0s - loss: 2.6762 - categorical_crossentropy: 3.0485 - accuracy: 0.4820 - top_k_categorical_accuracy: 0.6894WARNING:tensorflow:Learning rate reduction is conditioned on metric `val_acc` which is not available. Available metrics are: loss,categorical_crossentropy,accuracy,top_k_categorical_accuracy,val_loss,val_categorical_crossentropy,val_accuracy,val_top_k_categorical_accuracy,lr\n",
      "WARNING:tensorflow:Early stopping conditioned on metric `val_acc` which is not available. Available metrics are: loss,categorical_crossentropy,accuracy,top_k_categorical_accuracy,val_loss,val_categorical_crossentropy,val_accuracy,val_top_k_categorical_accuracy,lr\n",
      "266/266 [==============================] - 70s 261ms/step - loss: 2.6762 - categorical_crossentropy: 3.0485 - accuracy: 0.4820 - top_k_categorical_accuracy: 0.6894 - val_loss: 1.0942 - val_categorical_crossentropy: 1.2787 - val_accuracy: 0.7730 - val_top_k_categorical_accuracy: 0.9312 - lr: 1.0000e-05\n",
      "Epoch 12/30\n",
      "266/266 [==============================] - ETA: 0s - loss: 2.6818 - categorical_crossentropy: 3.0563 - accuracy: 0.4863 - top_k_categorical_accuracy: 0.6857WARNING:tensorflow:Learning rate reduction is conditioned on metric `val_acc` which is not available. Available metrics are: loss,categorical_crossentropy,accuracy,top_k_categorical_accuracy,val_loss,val_categorical_crossentropy,val_accuracy,val_top_k_categorical_accuracy,lr\n",
      "WARNING:tensorflow:Early stopping conditioned on metric `val_acc` which is not available. Available metrics are: loss,categorical_crossentropy,accuracy,top_k_categorical_accuracy,val_loss,val_categorical_crossentropy,val_accuracy,val_top_k_categorical_accuracy,lr\n",
      "266/266 [==============================] - 69s 256ms/step - loss: 2.6818 - categorical_crossentropy: 3.0563 - accuracy: 0.4863 - top_k_categorical_accuracy: 0.6857 - val_loss: 1.0965 - val_categorical_crossentropy: 1.2819 - val_accuracy: 0.7721 - val_top_k_categorical_accuracy: 0.9318 - lr: 1.0000e-05\n",
      "Epoch 13/30\n",
      "266/266 [==============================] - ETA: 0s - loss: 2.6485 - categorical_crossentropy: 3.0210 - accuracy: 0.4926 - top_k_categorical_accuracy: 0.6965WARNING:tensorflow:Learning rate reduction is conditioned on metric `val_acc` which is not available. Available metrics are: loss,categorical_crossentropy,accuracy,top_k_categorical_accuracy,val_loss,val_categorical_crossentropy,val_accuracy,val_top_k_categorical_accuracy,lr\n",
      "WARNING:tensorflow:Early stopping conditioned on metric `val_acc` which is not available. Available metrics are: loss,categorical_crossentropy,accuracy,top_k_categorical_accuracy,val_loss,val_categorical_crossentropy,val_accuracy,val_top_k_categorical_accuracy,lr\n",
      "266/266 [==============================] - 70s 260ms/step - loss: 2.6485 - categorical_crossentropy: 3.0210 - accuracy: 0.4926 - top_k_categorical_accuracy: 0.6965 - val_loss: 1.0958 - val_categorical_crossentropy: 1.2810 - val_accuracy: 0.7719 - val_top_k_categorical_accuracy: 0.9322 - lr: 1.0000e-05\n",
      "Epoch 14/30\n",
      "266/266 [==============================] - ETA: 0s - loss: 2.6630 - categorical_crossentropy: 3.0370 - accuracy: 0.4913 - top_k_categorical_accuracy: 0.6924WARNING:tensorflow:Learning rate reduction is conditioned on metric `val_acc` which is not available. Available metrics are: loss,categorical_crossentropy,accuracy,top_k_categorical_accuracy,val_loss,val_categorical_crossentropy,val_accuracy,val_top_k_categorical_accuracy,lr\n",
      "WARNING:tensorflow:Early stopping conditioned on metric `val_acc` which is not available. Available metrics are: loss,categorical_crossentropy,accuracy,top_k_categorical_accuracy,val_loss,val_categorical_crossentropy,val_accuracy,val_top_k_categorical_accuracy,lr\n",
      "266/266 [==============================] - 70s 261ms/step - loss: 2.6630 - categorical_crossentropy: 3.0370 - accuracy: 0.4913 - top_k_categorical_accuracy: 0.6924 - val_loss: 1.0999 - val_categorical_crossentropy: 1.2864 - val_accuracy: 0.7723 - val_top_k_categorical_accuracy: 0.9318 - lr: 1.0000e-05\n",
      "Epoch 15/30\n",
      "266/266 [==============================] - ETA: 0s - loss: 2.6825 - categorical_crossentropy: 3.0577 - accuracy: 0.4921 - top_k_categorical_accuracy: 0.6953WARNING:tensorflow:Learning rate reduction is conditioned on metric `val_acc` which is not available. Available metrics are: loss,categorical_crossentropy,accuracy,top_k_categorical_accuracy,val_loss,val_categorical_crossentropy,val_accuracy,val_top_k_categorical_accuracy,lr\n",
      "WARNING:tensorflow:Early stopping conditioned on metric `val_acc` which is not available. Available metrics are: loss,categorical_crossentropy,accuracy,top_k_categorical_accuracy,val_loss,val_categorical_crossentropy,val_accuracy,val_top_k_categorical_accuracy,lr\n",
      "266/266 [==============================] - 68s 253ms/step - loss: 2.6825 - categorical_crossentropy: 3.0577 - accuracy: 0.4921 - top_k_categorical_accuracy: 0.6953 - val_loss: 1.1150 - val_categorical_crossentropy: 1.3068 - val_accuracy: 0.7713 - val_top_k_categorical_accuracy: 0.9318 - lr: 1.0000e-05\n",
      "Epoch 16/30\n",
      "266/266 [==============================] - ETA: 0s - loss: 2.7036 - categorical_crossentropy: 3.0773 - accuracy: 0.4767 - top_k_categorical_accuracy: 0.6809WARNING:tensorflow:Learning rate reduction is conditioned on metric `val_acc` which is not available. Available metrics are: loss,categorical_crossentropy,accuracy,top_k_categorical_accuracy,val_loss,val_categorical_crossentropy,val_accuracy,val_top_k_categorical_accuracy,lr\n",
      "WARNING:tensorflow:Early stopping conditioned on metric `val_acc` which is not available. Available metrics are: loss,categorical_crossentropy,accuracy,top_k_categorical_accuracy,val_loss,val_categorical_crossentropy,val_accuracy,val_top_k_categorical_accuracy,lr\n",
      "266/266 [==============================] - 69s 257ms/step - loss: 2.7036 - categorical_crossentropy: 3.0773 - accuracy: 0.4767 - top_k_categorical_accuracy: 0.6809 - val_loss: 1.0987 - val_categorical_crossentropy: 1.2851 - val_accuracy: 0.7721 - val_top_k_categorical_accuracy: 0.9320 - lr: 1.0000e-05\n",
      "Epoch 17/30\n"
     ]
    },
    {
     "name": "stdout",
     "output_type": "stream",
     "text": [
      "266/266 [==============================] - ETA: 0s - loss: 2.7175 - categorical_crossentropy: 3.0927 - accuracy: 0.4824 - top_k_categorical_accuracy: 0.6823WARNING:tensorflow:Learning rate reduction is conditioned on metric `val_acc` which is not available. Available metrics are: loss,categorical_crossentropy,accuracy,top_k_categorical_accuracy,val_loss,val_categorical_crossentropy,val_accuracy,val_top_k_categorical_accuracy,lr\n",
      "WARNING:tensorflow:Early stopping conditioned on metric `val_acc` which is not available. Available metrics are: loss,categorical_crossentropy,accuracy,top_k_categorical_accuracy,val_loss,val_categorical_crossentropy,val_accuracy,val_top_k_categorical_accuracy,lr\n",
      "266/266 [==============================] - 70s 260ms/step - loss: 2.7175 - categorical_crossentropy: 3.0927 - accuracy: 0.4824 - top_k_categorical_accuracy: 0.6823 - val_loss: 1.0936 - val_categorical_crossentropy: 1.2782 - val_accuracy: 0.7719 - val_top_k_categorical_accuracy: 0.9314 - lr: 1.0000e-05\n",
      "Epoch 18/30\n",
      "266/266 [==============================] - ETA: 0s - loss: 2.6490 - categorical_crossentropy: 3.0193 - accuracy: 0.4979 - top_k_categorical_accuracy: 0.6911WARNING:tensorflow:Learning rate reduction is conditioned on metric `val_acc` which is not available. Available metrics are: loss,categorical_crossentropy,accuracy,top_k_categorical_accuracy,val_loss,val_categorical_crossentropy,val_accuracy,val_top_k_categorical_accuracy,lr\n",
      "WARNING:tensorflow:Early stopping conditioned on metric `val_acc` which is not available. Available metrics are: loss,categorical_crossentropy,accuracy,top_k_categorical_accuracy,val_loss,val_categorical_crossentropy,val_accuracy,val_top_k_categorical_accuracy,lr\n",
      "266/266 [==============================] - 70s 260ms/step - loss: 2.6490 - categorical_crossentropy: 3.0193 - accuracy: 0.4979 - top_k_categorical_accuracy: 0.6911 - val_loss: 1.0909 - val_categorical_crossentropy: 1.2741 - val_accuracy: 0.7711 - val_top_k_categorical_accuracy: 0.9316 - lr: 1.0000e-05\n",
      "Epoch 19/30\n",
      "266/266 [==============================] - ETA: 0s - loss: 2.7505 - categorical_crossentropy: 3.1263 - accuracy: 0.4714 - top_k_categorical_accuracy: 0.6737WARNING:tensorflow:Learning rate reduction is conditioned on metric `val_acc` which is not available. Available metrics are: loss,categorical_crossentropy,accuracy,top_k_categorical_accuracy,val_loss,val_categorical_crossentropy,val_accuracy,val_top_k_categorical_accuracy,lr\n",
      "WARNING:tensorflow:Early stopping conditioned on metric `val_acc` which is not available. Available metrics are: loss,categorical_crossentropy,accuracy,top_k_categorical_accuracy,val_loss,val_categorical_crossentropy,val_accuracy,val_top_k_categorical_accuracy,lr\n",
      "266/266 [==============================] - 69s 257ms/step - loss: 2.7505 - categorical_crossentropy: 3.1263 - accuracy: 0.4714 - top_k_categorical_accuracy: 0.6737 - val_loss: 1.0768 - val_categorical_crossentropy: 1.2549 - val_accuracy: 0.7699 - val_top_k_categorical_accuracy: 0.9320 - lr: 1.0000e-05\n",
      "Epoch 20/30\n",
      "266/266 [==============================] - ETA: 0s - loss: 2.7031 - categorical_crossentropy: 3.0767 - accuracy: 0.4814 - top_k_categorical_accuracy: 0.6830WARNING:tensorflow:Learning rate reduction is conditioned on metric `val_acc` which is not available. Available metrics are: loss,categorical_crossentropy,accuracy,top_k_categorical_accuracy,val_loss,val_categorical_crossentropy,val_accuracy,val_top_k_categorical_accuracy,lr\n",
      "WARNING:tensorflow:Early stopping conditioned on metric `val_acc` which is not available. Available metrics are: loss,categorical_crossentropy,accuracy,top_k_categorical_accuracy,val_loss,val_categorical_crossentropy,val_accuracy,val_top_k_categorical_accuracy,lr\n",
      "266/266 [==============================] - 70s 259ms/step - loss: 2.7031 - categorical_crossentropy: 3.0767 - accuracy: 0.4814 - top_k_categorical_accuracy: 0.6830 - val_loss: 1.0881 - val_categorical_crossentropy: 1.2708 - val_accuracy: 0.7715 - val_top_k_categorical_accuracy: 0.9320 - lr: 1.0000e-05\n",
      "Epoch 21/30\n",
      "266/266 [==============================] - ETA: 0s - loss: 2.6759 - categorical_crossentropy: 3.0495 - accuracy: 0.4879 - top_k_categorical_accuracy: 0.6942WARNING:tensorflow:Learning rate reduction is conditioned on metric `val_acc` which is not available. Available metrics are: loss,categorical_crossentropy,accuracy,top_k_categorical_accuracy,val_loss,val_categorical_crossentropy,val_accuracy,val_top_k_categorical_accuracy,lr\n",
      "WARNING:tensorflow:Early stopping conditioned on metric `val_acc` which is not available. Available metrics are: loss,categorical_crossentropy,accuracy,top_k_categorical_accuracy,val_loss,val_categorical_crossentropy,val_accuracy,val_top_k_categorical_accuracy,lr\n",
      "266/266 [==============================] - 70s 260ms/step - loss: 2.6759 - categorical_crossentropy: 3.0495 - accuracy: 0.4879 - top_k_categorical_accuracy: 0.6942 - val_loss: 1.0855 - val_categorical_crossentropy: 1.2671 - val_accuracy: 0.7719 - val_top_k_categorical_accuracy: 0.9324 - lr: 1.0000e-05\n",
      "Epoch 22/30\n",
      "266/266 [==============================] - ETA: 0s - loss: 2.6944 - categorical_crossentropy: 3.0694 - accuracy: 0.4869 - top_k_categorical_accuracy: 0.6893WARNING:tensorflow:Learning rate reduction is conditioned on metric `val_acc` which is not available. Available metrics are: loss,categorical_crossentropy,accuracy,top_k_categorical_accuracy,val_loss,val_categorical_crossentropy,val_accuracy,val_top_k_categorical_accuracy,lr\n",
      "WARNING:tensorflow:Early stopping conditioned on metric `val_acc` which is not available. Available metrics are: loss,categorical_crossentropy,accuracy,top_k_categorical_accuracy,val_loss,val_categorical_crossentropy,val_accuracy,val_top_k_categorical_accuracy,lr\n",
      "266/266 [==============================] - 69s 259ms/step - loss: 2.6944 - categorical_crossentropy: 3.0694 - accuracy: 0.4869 - top_k_categorical_accuracy: 0.6893 - val_loss: 1.0809 - val_categorical_crossentropy: 1.2615 - val_accuracy: 0.7727 - val_top_k_categorical_accuracy: 0.9328 - lr: 1.0000e-05\n",
      "Epoch 23/30\n",
      "266/266 [==============================] - ETA: 0s - loss: 2.6587 - categorical_crossentropy: 3.0318 - accuracy: 0.4898 - top_k_categorical_accuracy: 0.6907WARNING:tensorflow:Learning rate reduction is conditioned on metric `val_acc` which is not available. Available metrics are: loss,categorical_crossentropy,accuracy,top_k_categorical_accuracy,val_loss,val_categorical_crossentropy,val_accuracy,val_top_k_categorical_accuracy,lr\n",
      "WARNING:tensorflow:Early stopping conditioned on metric `val_acc` which is not available. Available metrics are: loss,categorical_crossentropy,accuracy,top_k_categorical_accuracy,val_loss,val_categorical_crossentropy,val_accuracy,val_top_k_categorical_accuracy,lr\n",
      "266/266 [==============================] - 69s 259ms/step - loss: 2.6587 - categorical_crossentropy: 3.0318 - accuracy: 0.4898 - top_k_categorical_accuracy: 0.6907 - val_loss: 1.0938 - val_categorical_crossentropy: 1.2784 - val_accuracy: 0.7727 - val_top_k_categorical_accuracy: 0.9318 - lr: 1.0000e-05\n",
      "Epoch 24/30\n",
      "266/266 [==============================] - ETA: 0s - loss: 2.7225 - categorical_crossentropy: 3.0981 - accuracy: 0.4779 - top_k_categorical_accuracy: 0.6774WARNING:tensorflow:Learning rate reduction is conditioned on metric `val_acc` which is not available. Available metrics are: loss,categorical_crossentropy,accuracy,top_k_categorical_accuracy,val_loss,val_categorical_crossentropy,val_accuracy,val_top_k_categorical_accuracy,lr\n",
      "WARNING:tensorflow:Early stopping conditioned on metric `val_acc` which is not available. Available metrics are: loss,categorical_crossentropy,accuracy,top_k_categorical_accuracy,val_loss,val_categorical_crossentropy,val_accuracy,val_top_k_categorical_accuracy,lr\n",
      "266/266 [==============================] - 71s 265ms/step - loss: 2.7225 - categorical_crossentropy: 3.0981 - accuracy: 0.4779 - top_k_categorical_accuracy: 0.6774 - val_loss: 1.0966 - val_categorical_crossentropy: 1.2823 - val_accuracy: 0.7725 - val_top_k_categorical_accuracy: 0.9312 - lr: 1.0000e-05\n",
      "Epoch 25/30\n"
     ]
    },
    {
     "name": "stdout",
     "output_type": "stream",
     "text": [
      "266/266 [==============================] - ETA: 0s - loss: 2.6666 - categorical_crossentropy: 3.0386 - accuracy: 0.4910 - top_k_categorical_accuracy: 0.6924WARNING:tensorflow:Learning rate reduction is conditioned on metric `val_acc` which is not available. Available metrics are: loss,categorical_crossentropy,accuracy,top_k_categorical_accuracy,val_loss,val_categorical_crossentropy,val_accuracy,val_top_k_categorical_accuracy,lr\n",
      "WARNING:tensorflow:Early stopping conditioned on metric `val_acc` which is not available. Available metrics are: loss,categorical_crossentropy,accuracy,top_k_categorical_accuracy,val_loss,val_categorical_crossentropy,val_accuracy,val_top_k_categorical_accuracy,lr\n",
      "266/266 [==============================] - 69s 259ms/step - loss: 2.6666 - categorical_crossentropy: 3.0386 - accuracy: 0.4910 - top_k_categorical_accuracy: 0.6924 - val_loss: 1.0891 - val_categorical_crossentropy: 1.2723 - val_accuracy: 0.7719 - val_top_k_categorical_accuracy: 0.9326 - lr: 1.0000e-05\n",
      "Epoch 26/30\n",
      "266/266 [==============================] - ETA: 0s - loss: 2.6308 - categorical_crossentropy: 3.0013 - accuracy: 0.4998 - top_k_categorical_accuracy: 0.7021WARNING:tensorflow:Learning rate reduction is conditioned on metric `val_acc` which is not available. Available metrics are: loss,categorical_crossentropy,accuracy,top_k_categorical_accuracy,val_loss,val_categorical_crossentropy,val_accuracy,val_top_k_categorical_accuracy,lr\n",
      "WARNING:tensorflow:Early stopping conditioned on metric `val_acc` which is not available. Available metrics are: loss,categorical_crossentropy,accuracy,top_k_categorical_accuracy,val_loss,val_categorical_crossentropy,val_accuracy,val_top_k_categorical_accuracy,lr\n",
      "266/266 [==============================] - 70s 260ms/step - loss: 2.6308 - categorical_crossentropy: 3.0013 - accuracy: 0.4998 - top_k_categorical_accuracy: 0.7021 - val_loss: 1.1065 - val_categorical_crossentropy: 1.2958 - val_accuracy: 0.7709 - val_top_k_categorical_accuracy: 0.9320 - lr: 1.0000e-05\n",
      "Epoch 27/30\n",
      "266/266 [==============================] - ETA: 0s - loss: 2.7234 - categorical_crossentropy: 3.1003 - accuracy: 0.4758 - top_k_categorical_accuracy: 0.6842WARNING:tensorflow:Learning rate reduction is conditioned on metric `val_acc` which is not available. Available metrics are: loss,categorical_crossentropy,accuracy,top_k_categorical_accuracy,val_loss,val_categorical_crossentropy,val_accuracy,val_top_k_categorical_accuracy,lr\n",
      "WARNING:tensorflow:Early stopping conditioned on metric `val_acc` which is not available. Available metrics are: loss,categorical_crossentropy,accuracy,top_k_categorical_accuracy,val_loss,val_categorical_crossentropy,val_accuracy,val_top_k_categorical_accuracy,lr\n",
      "266/266 [==============================] - 69s 258ms/step - loss: 2.7234 - categorical_crossentropy: 3.1003 - accuracy: 0.4758 - top_k_categorical_accuracy: 0.6842 - val_loss: 1.0997 - val_categorical_crossentropy: 1.2869 - val_accuracy: 0.7725 - val_top_k_categorical_accuracy: 0.9318 - lr: 1.0000e-05\n",
      "Epoch 28/30\n",
      "266/266 [==============================] - ETA: 0s - loss: 2.6671 - categorical_crossentropy: 3.0399 - accuracy: 0.4957 - top_k_categorical_accuracy: 0.6932WARNING:tensorflow:Learning rate reduction is conditioned on metric `val_acc` which is not available. Available metrics are: loss,categorical_crossentropy,accuracy,top_k_categorical_accuracy,val_loss,val_categorical_crossentropy,val_accuracy,val_top_k_categorical_accuracy,lr\n",
      "WARNING:tensorflow:Early stopping conditioned on metric `val_acc` which is not available. Available metrics are: loss,categorical_crossentropy,accuracy,top_k_categorical_accuracy,val_loss,val_categorical_crossentropy,val_accuracy,val_top_k_categorical_accuracy,lr\n",
      "266/266 [==============================] - 70s 259ms/step - loss: 2.6671 - categorical_crossentropy: 3.0399 - accuracy: 0.4957 - top_k_categorical_accuracy: 0.6932 - val_loss: 1.0875 - val_categorical_crossentropy: 1.2703 - val_accuracy: 0.7725 - val_top_k_categorical_accuracy: 0.9320 - lr: 1.0000e-05\n",
      "Epoch 29/30\n",
      "266/266 [==============================] - ETA: 0s - loss: 2.6556 - categorical_crossentropy: 3.0275 - accuracy: 0.4891 - top_k_categorical_accuracy: 0.6992WARNING:tensorflow:Learning rate reduction is conditioned on metric `val_acc` which is not available. Available metrics are: loss,categorical_crossentropy,accuracy,top_k_categorical_accuracy,val_loss,val_categorical_crossentropy,val_accuracy,val_top_k_categorical_accuracy,lr\n",
      "WARNING:tensorflow:Early stopping conditioned on metric `val_acc` which is not available. Available metrics are: loss,categorical_crossentropy,accuracy,top_k_categorical_accuracy,val_loss,val_categorical_crossentropy,val_accuracy,val_top_k_categorical_accuracy,lr\n",
      "266/266 [==============================] - 69s 257ms/step - loss: 2.6556 - categorical_crossentropy: 3.0275 - accuracy: 0.4891 - top_k_categorical_accuracy: 0.6992 - val_loss: 1.1043 - val_categorical_crossentropy: 1.2931 - val_accuracy: 0.7713 - val_top_k_categorical_accuracy: 0.9316 - lr: 1.0000e-05\n",
      "Epoch 30/30\n",
      "266/266 [==============================] - ETA: 0s - loss: 2.7365 - categorical_crossentropy: 3.1141 - accuracy: 0.4717 - top_k_categorical_accuracy: 0.6783WARNING:tensorflow:Learning rate reduction is conditioned on metric `val_acc` which is not available. Available metrics are: loss,categorical_crossentropy,accuracy,top_k_categorical_accuracy,val_loss,val_categorical_crossentropy,val_accuracy,val_top_k_categorical_accuracy,lr\n",
      "WARNING:tensorflow:Early stopping conditioned on metric `val_acc` which is not available. Available metrics are: loss,categorical_crossentropy,accuracy,top_k_categorical_accuracy,val_loss,val_categorical_crossentropy,val_accuracy,val_top_k_categorical_accuracy,lr\n",
      "266/266 [==============================] - 69s 258ms/step - loss: 2.7365 - categorical_crossentropy: 3.1141 - accuracy: 0.4717 - top_k_categorical_accuracy: 0.6783 - val_loss: 1.1223 - val_categorical_crossentropy: 1.3166 - val_accuracy: 0.7715 - val_top_k_categorical_accuracy: 0.9314 - lr: 1.0000e-05\n"
     ]
    },
    {
     "data": {
      "text/plain": [
       "<keras.callbacks.History at 0x7f199821efa0>"
      ]
     },
     "execution_count": 19,
     "metadata": {},
     "output_type": "execute_result"
    }
   ],
   "source": [
    "model.fit_generator(\n",
    "    train_generator, \n",
    "    steps_per_epoch=266, epochs=30, verbose=1,\n",
    "    callbacks=[\n",
    "        ReduceLROnPlateau(monitor='val_acc', factor=0.1, patience=2, epsilon=0.007),\n",
    "        EarlyStopping(monitor='val_acc', patience=4, min_delta=0.01)\n",
    "    ],\n",
    "    validation_data=val_generator, validation_steps=80, workers=4\n",
    ")"
   ]
  },
  {
   "cell_type": "markdown",
   "metadata": {},
   "source": [
    "# Loss/epoch plots"
   ]
  },
  {
   "cell_type": "code",
   "execution_count": 10,
   "metadata": {},
   "outputs": [
    {
     "data": {
      "image/png": "[encoded data removed]",
      "text/plain": [
       "<Figure size 432x288 with 1 Axes>"
      ]
     },
     "metadata": {
      "needs_background": "light"
     },
     "output_type": "display_data"
    }
   ],
   "source": [
    "plt.plot(model.history.history['categorical_crossentropy'], label='train');\n",
    "plt.plot(model.history.history['val_categorical_crossentropy'], label='val');\n",
    "plt.legend();\n",
    "plt.xlabel('epoch');\n",
    "plt.ylabel('logloss');"
   ]
  },
  {
   "cell_type": "code",
   "execution_count": 13,
   "metadata": {},
   "outputs": [
    {
     "data": {
      "image/png": "[encoded data removed]",
      "text/plain": [
       "<Figure size 432x288 with 1 Axes>"
      ]
     },
     "metadata": {
      "needs_background": "light"
     },
     "output_type": "display_data"
    }
   ],
   "source": [
    "plt.plot(model.history.history['acc'], label='train');\n",
    "plt.plot(model.history.history['val_acc'], label='val');\n",
    "plt.legend();\n",
    "plt.xlabel('epoch');\n",
    "plt.ylabel('accuracy');"
   ]
  },
  {
   "cell_type": "code",
   "execution_count": 14,
   "metadata": {
    "scrolled": true
   },
   "outputs": [
    {
     "data": {
      "image/png": "[encoded data removed]",
      "text/plain": [
       "<Figure size 432x288 with 1 Axes>"
      ]
     },
     "metadata": {
      "needs_background": "light"
     },
     "output_type": "display_data"
    }
   ],
   "source": [
    "plt.plot(model.history.history['top_k_categorical_accuracy'], label='train');\n",
    "plt.plot(model.history.history['val_top_k_categorical_accuracy'], label='val');\n",
    "plt.legend();\n",
    "plt.xlabel('epoch');\n",
    "plt.ylabel('top5_accuracy');"
   ]
  },
  {
   "cell_type": "markdown",
   "metadata": {},
   "source": [
    "# Results"
   ]
  },
  {
   "cell_type": "code",
   "execution_count": 18,
   "metadata": {},
   "outputs": [
    {
     "name": "stderr",
     "output_type": "stream",
     "text": [
      "/tmp/ipykernel_2747/4197566343.py:1: UserWarning: `Model.evaluate_generator` is deprecated and will be removed in a future version. Please use `Model.evaluate`, which supports generators.\n",
      "  model.evaluate_generator(val_generator, 80)\n"
     ]
    },
    {
     "data": {
      "text/plain": [
       "[1.0985087156295776, 1.2842930555343628, 0.7720702886581421, 0.931445300579071]"
      ]
     },
     "execution_count": 18,
     "metadata": {},
     "output_type": "execute_result"
    }
   ],
   "source": [
    "model.evaluate_generator(val_generator, 80)"
   ]
  },
  {
   "cell_type": "code",
   "execution_count": 21,
   "metadata": {},
   "outputs": [],
   "source": [
    "model.save_weights('xception_weights.hdf5')"
   ]
  },
  {
   "cell_type": "code",
   "execution_count": null,
   "metadata": {},
   "outputs": [],
   "source": []
  }
 ],
 "metadata": {
  "kernelspec": {
   "display_name": "Python 3 (ipykernel)",
   "language": "python",
   "name": "python3"
  },
  "language_info": {
   "codemirror_mode": {
    "name": "ipython",
    "version": 3
   },
   "file_extension": ".py",
   "mimetype": "text/x-python",
   "name": "python",
   "nbconvert_exporter": "python",
   "pygments_lexer": "ipython3",
   "version": "3.9.12"
  },
  "varInspector": {
   "cols": {
    "lenName": 16,
    "lenType": 16,
    "lenVar": 40
   },
   "kernels_config": {
    "python": {
     "delete_cmd_postfix": "",
     "delete_cmd_prefix": "del ",
     "library": "var_list.py",
     "varRefreshCmd": "print(var_dic_list())"
    },
    "r": {
     "delete_cmd_postfix": ") ",
     "delete_cmd_prefix": "rm(",
     "library": "var_list.r",
     "varRefreshCmd": "cat(var_dic_list()) "
    }
   },
   "types_to_exclude": [
    "module",
    "function",
    "builtin_function_or_method",
    "instance",
    "_Feature"
   ],
   "window_display": false
  }
 },
 "nbformat": 4,
 "nbformat_minor": 2
}
