{
 "cells": [
  {
   "cell_type": "code",
   "execution_count": 1,
   "id": "567e6c3b",
   "metadata": {},
   "outputs": [],
   "source": [
    "import pandas as pd"
   ]
  },
  {
   "cell_type": "code",
   "execution_count": 11,
   "id": "faf93f86",
   "metadata": {},
   "outputs": [],
   "source": [
    "dir = \"/home/atik/Documents/Summer_1/train_val_split/\""
   ]
  },
  {
   "cell_type": "code",
   "execution_count": 12,
   "id": "0bebe180",
   "metadata": {},
   "outputs": [
    {
     "name": "stdout",
     "output_type": "stream",
     "text": [
      "            directory      img_name  height  width  channels  byte_size  \\\n",
      "0  175.roulette-wheel  175_0038.jpg     167    248         3     124248   \n",
      "1  175.roulette-wheel  175_0010.jpg     251    500         3     376500   \n",
      "2  175.roulette-wheel  175_0022.jpg     175    188         3      98700   \n",
      "3  175.roulette-wheel  175_0066.jpg     384    512         3     589824   \n",
      "4  175.roulette-wheel  175_0011.jpg     253    364         3     276276   \n",
      "\n",
      "  bit_depth   category_name img_extension  category_number  \n",
      "0     uint8  roulette-wheel           jpg              175  \n",
      "1     uint8  roulette-wheel           jpg              175  \n",
      "2     uint8  roulette-wheel           jpg              175  \n",
      "3     uint8  roulette-wheel           jpg              175  \n",
      "4     uint8  roulette-wheel           jpg              175  \n"
     ]
    }
   ],
   "source": [
    "data = pd.read_csv(dir+'train_metadata.csv')\n",
    "print(data.head())"
   ]
  },
  {
   "cell_type": "code",
   "execution_count": 13,
   "id": "abd9cbe4",
   "metadata": {
    "scrolled": true
   },
   "outputs": [
    {
     "data": {
      "text/plain": [
       "257"
      ]
     },
     "execution_count": 13,
     "metadata": {},
     "output_type": "execute_result"
    }
   ],
   "source": [
    "len(data.category_name.unique())\n",
    "#len(data)"
   ]
  },
  {
   "cell_type": "code",
   "execution_count": 14,
   "id": "3d61be1f",
   "metadata": {},
   "outputs": [
    {
     "data": {
      "text/plain": [
       "256"
      ]
     },
     "execution_count": 14,
     "metadata": {},
     "output_type": "execute_result"
    }
   ],
   "source": [
    "data_no_clutter = data[data.category_name != \"clutter\"]\n",
    "len(data_no_clutter.category_name.unique())"
   ]
  },
  {
   "cell_type": "code",
   "execution_count": 15,
   "id": "a4a6f1c1",
   "metadata": {},
   "outputs": [],
   "source": [
    "data_no_clutter.to_csv(dir+'train_metadata_no_clutter.csv')"
   ]
  }
 ],
 "metadata": {
  "kernelspec": {
   "display_name": "Python 3 (ipykernel)",
   "language": "python",
   "name": "python3"
  },
  "language_info": {
   "codemirror_mode": {
    "name": "ipython",
    "version": 3
   },
   "file_extension": ".py",
   "mimetype": "text/x-python",
   "name": "python",
   "nbconvert_exporter": "python",
   "pygments_lexer": "ipython3",
   "version": "3.8.10"
  },
  "varInspector": {
   "cols": {
    "lenName": 16,
    "lenType": 16,
    "lenVar": 40
   },
   "kernels_config": {
    "python": {
     "delete_cmd_postfix": "",
     "delete_cmd_prefix": "del ",
     "library": "var_list.py",
     "varRefreshCmd": "print(var_dic_list())"
    },
    "r": {
     "delete_cmd_postfix": ") ",
     "delete_cmd_prefix": "rm(",
     "library": "var_list.r",
     "varRefreshCmd": "cat(var_dic_list()) "
    }
   },
   "position": {
    "height": "468.85px",
    "left": "1538px",
    "right": "20px",
    "top": "128px",
    "width": "351px"
   },
   "types_to_exclude": [
    "module",
    "function",
    "builtin_function_or_method",
    "instance",
    "_Feature"
   ],
   "window_display": true
  }
 },
 "nbformat": 4,
 "nbformat_minor": 5
}
