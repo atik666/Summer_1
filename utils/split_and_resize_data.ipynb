{
 "cells": [
  {
   "cell_type": "code",
   "execution_count": 2,
   "metadata": {},
   "outputs": [
    {
     "name": "stderr",
     "output_type": "stream",
     "text": [
      "/home/atik/miniconda3/envs/tf/lib/python3.9/site-packages/tqdm/auto.py:22: TqdmWarning: IProgress not found. Please update jupyter and ipywidgets. See https://ipywidgets.readthedocs.io/en/stable/user_install.html\n",
      "  from .autonotebook import tqdm as notebook_tqdm\n"
     ]
    }
   ],
   "source": [
    "import numpy as np\n",
    "import pandas as pd\n",
    "\n",
    "from PIL import Image, ImageEnhance\n",
    "import torchvision.transforms as transforms\n",
    "\n",
    "import os\n",
    "from tqdm import tqdm "
   ]
  },
  {
   "cell_type": "code",
   "execution_count": 3,
   "metadata": {},
   "outputs": [],
   "source": [
    "# the folder from 256_ObjectCategories.tar file\n",
    "train_dir = '/home/atik/Documents/Summer_1/data/256_ObjectCategories/'\n",
    "\n",
    "# a folder where resized and split data will be stored\n",
    "data_dir = '/home/atik/Documents/Summer_1/data/'"
   ]
  },
  {
   "cell_type": "markdown",
   "metadata": {},
   "source": [
    "# Load constant train-val split"
   ]
  },
  {
   "cell_type": "code",
   "execution_count": 4,
   "metadata": {},
   "outputs": [
    {
     "name": "stdout",
     "output_type": "stream",
     "text": [
      "   Unnamed: 0           directory      img_name  height  width  channels  \\\n",
      "0           0  175.roulette-wheel  175_0038.jpg     167    248         3   \n",
      "1           1  175.roulette-wheel  175_0010.jpg     251    500         3   \n",
      "2           2  175.roulette-wheel  175_0022.jpg     175    188         3   \n",
      "3           3  175.roulette-wheel  175_0066.jpg     384    512         3   \n",
      "4           4  175.roulette-wheel  175_0011.jpg     253    364         3   \n",
      "\n",
      "   byte_size bit_depth   category_name img_extension  category_number  \n",
      "0     124248     uint8  roulette-wheel           jpg              175  \n",
      "1     376500     uint8  roulette-wheel           jpg              175  \n",
      "2      98700     uint8  roulette-wheel           jpg              175  \n",
      "3     589824     uint8  roulette-wheel           jpg              175  \n",
      "4     276276     uint8  roulette-wheel           jpg              175  \n",
      "***************\n",
      "   Unnamed: 0           directory      img_name  height  width  channels  \\\n",
      "0           0  175.roulette-wheel  175_0001.jpg     167    215         3   \n",
      "1           1  175.roulette-wheel  175_0006.jpg     150    200         3   \n",
      "2           2  175.roulette-wheel  175_0032.jpg     200    299         3   \n",
      "3           3  175.roulette-wheel  175_0061.jpg     247    330         3   \n",
      "4           4  175.roulette-wheel  175_0059.jpg     265    400         3   \n",
      "\n",
      "   byte_size bit_depth   category_name img_extension  category_number  \n",
      "0     107715     uint8  roulette-wheel           jpg              175  \n",
      "1      90000     uint8  roulette-wheel           jpg              175  \n",
      "2     179400     uint8  roulette-wheel           jpg              175  \n",
      "3     244530     uint8  roulette-wheel           jpg              175  \n",
      "4     318000     uint8  roulette-wheel           jpg              175  \n"
     ]
    }
   ],
   "source": [
    "T = pd.read_csv('/home/atik/Documents/Summer_1/train_val_split/train_metadata_no_clutter.csv')\n",
    "V = pd.read_csv('/home/atik/Documents/Summer_1/train_val_split/val_metadata_no_clutter.csv')\n",
    "print(T.head())\n",
    "print(\"*\"*15)\n",
    "print(V.head())"
   ]
  },
  {
   "cell_type": "markdown",
   "metadata": {},
   "source": [
    "# Create directories for different categories"
   ]
  },
  {
   "cell_type": "code",
   "execution_count": 5,
   "metadata": {},
   "outputs": [],
   "source": [
    "try:\n",
    "    os.mkdir(data_dir + 'train')\n",
    "    for i in range(1, 256 + 1):\n",
    "        os.mkdir(data_dir + 'train/' + str(i))\n",
    "except:\n",
    "    pass"
   ]
  },
  {
   "cell_type": "code",
   "execution_count": 6,
   "metadata": {},
   "outputs": [],
   "source": [
    "try:\n",
    "    os.mkdir(data_dir + 'val')\n",
    "    for i in range(1, 256 + 1):\n",
    "        os.mkdir(data_dir + 'val/' + str(i))   \n",
    "except:\n",
    "    pass"
   ]
  },
  {
   "cell_type": "markdown",
   "metadata": {},
   "source": [
    "# Resize val. images"
   ]
  },
  {
   "cell_type": "code",
   "execution_count": 7,
   "metadata": {},
   "outputs": [
    {
     "name": "stderr",
     "output_type": "stream",
     "text": [
      "/tmp/ipykernel_11120/2900662935.py:2: DeprecationWarning: LANCZOS is deprecated and will be removed in Pillow 10 (2023-07-01). Use Resampling.LANCZOS instead.\n",
      "  transforms.Resize(299, Image.LANCZOS),\n",
      "/home/atik/miniconda3/envs/tf/lib/python3.9/site-packages/torchvision/transforms/transforms.py:332: UserWarning: Argument interpolation should be of type InterpolationMode instead of int. Please, use InterpolationMode enum.\n",
      "  warnings.warn(\n"
     ]
    }
   ],
   "source": [
    "val_transform = transforms.Compose([\n",
    "    transforms.Resize(299, Image.LANCZOS),\n",
    "    transforms.CenterCrop(299)\n",
    "])"
   ]
  },
  {
   "cell_type": "code",
   "execution_count": 8,
   "metadata": {},
   "outputs": [
    {
     "data": {
      "text/plain": [
       "5120"
      ]
     },
     "execution_count": 8,
     "metadata": {},
     "output_type": "execute_result"
    }
   ],
   "source": [
    "val_size = len(V)\n",
    "val_size"
   ]
  },
  {
   "cell_type": "code",
   "execution_count": 9,
   "metadata": {
    "scrolled": true
   },
   "outputs": [
    {
     "name": "stderr",
     "output_type": "stream",
     "text": [
      "5041it [00:18, 271.15it/s]\n"
     ]
    }
   ],
   "source": [
    "# resize RGB images\n",
    "for i, row in tqdm(V.loc[V.channels == 3].iterrows()):\n",
    "    # get image\n",
    "    file_path = os.path.join(train_dir, row.directory, row.img_name)\n",
    "    image = Image.open(file_path)\n",
    "    \n",
    "    # transform it\n",
    "    image = val_transform(image)\n",
    "    \n",
    "    # save\n",
    "    save_path = os.path.join(data_dir, 'val', str(row.category_number), row.img_name)\n",
    "    image.save(save_path, 'jpeg')"
   ]
  },
  {
   "cell_type": "code",
   "execution_count": 10,
   "metadata": {},
   "outputs": [
    {
     "name": "stderr",
     "output_type": "stream",
     "text": [
      "79it [00:00, 378.39it/s]\n"
     ]
    }
   ],
   "source": [
    "# resize grayscale images\n",
    "for i, row in tqdm(V.loc[V.channels == 1].iterrows()):\n",
    "    # get image\n",
    "    file_path = os.path.join(train_dir, row.directory, row.img_name)\n",
    "    image = Image.open(file_path)\n",
    "    \n",
    "    # transform it\n",
    "    image = val_transform(image)\n",
    "    \n",
    "    # convert to RGB\n",
    "    array = np.asarray(image, dtype='uint8')\n",
    "    array = np.stack([array, array, array], axis=2)\n",
    "    image = Image.fromarray(array)\n",
    "    \n",
    "    # save\n",
    "    save_path = os.path.join(data_dir, 'val', str(row.category_number), row.img_name)\n",
    "    image.save(save_path, 'jpeg')"
   ]
  },
  {
   "cell_type": "markdown",
   "metadata": {},
   "source": [
    "# Resize train images"
   ]
  },
  {
   "cell_type": "code",
   "execution_count": 11,
   "metadata": {},
   "outputs": [],
   "source": [
    "enhancers = {\n",
    "    0: lambda image, f: ImageEnhance.Color(image).enhance(f),\n",
    "    1: lambda image, f: ImageEnhance.Contrast(image).enhance(f),\n",
    "    2: lambda image, f: ImageEnhance.Brightness(image).enhance(f),\n",
    "    3: lambda image, f: ImageEnhance.Sharpness(image).enhance(f)\n",
    "}\n",
    "\n",
    "factors = {\n",
    "    0: lambda: np.random.uniform(0.4, 1.6),\n",
    "    1: lambda: np.random.uniform(0.8, 1.2),\n",
    "    2: lambda: np.random.uniform(0.8, 1.2),\n",
    "    3: lambda: np.random.uniform(0.4, 1.6)\n",
    "}\n",
    "\n",
    "# randomly enhance images in random order\n",
    "def enhance(image):\n",
    "    order = [0, 1, 2, 3]\n",
    "    np.random.shuffle(order)\n",
    "    for i in order:\n",
    "        f = factors[i]()\n",
    "        image = enhancers[i](image, f)\n",
    "    return image"
   ]
  },
  {
   "cell_type": "code",
   "execution_count": 12,
   "metadata": {},
   "outputs": [
    {
     "name": "stderr",
     "output_type": "stream",
     "text": [
      "/tmp/ipykernel_11120/4053148753.py:2: DeprecationWarning: LANCZOS is deprecated and will be removed in Pillow 10 (2023-07-01). Use Resampling.LANCZOS instead.\n",
      "  transforms.Resize(384, Image.LANCZOS),\n",
      "/tmp/ipykernel_11120/4053148753.py:9: DeprecationWarning: LANCZOS is deprecated and will be removed in Pillow 10 (2023-07-01). Use Resampling.LANCZOS instead.\n",
      "  transforms.Resize(384, Image.LANCZOS),\n"
     ]
    }
   ],
   "source": [
    "train_transform_rare = transforms.Compose([\n",
    "    transforms.Resize(384, Image.LANCZOS),\n",
    "    transforms.RandomCrop(299),\n",
    "    transforms.RandomHorizontalFlip(),\n",
    "    transforms.Lambda(enhance)\n",
    "])\n",
    "\n",
    "train_transform = transforms.Compose([\n",
    "    transforms.Resize(384, Image.LANCZOS),\n",
    "    transforms.RandomCrop(299),\n",
    "    transforms.RandomHorizontalFlip(),\n",
    "])"
   ]
  },
  {
   "cell_type": "code",
   "execution_count": 13,
   "metadata": {},
   "outputs": [],
   "source": [
    "# number of images in each category\n",
    "class_counts = dict(T.category_name.value_counts())\n",
    "np.save('class_counts.npy', class_counts)"
   ]
  },
  {
   "cell_type": "code",
   "execution_count": 14,
   "metadata": {
    "scrolled": true
   },
   "outputs": [],
   "source": [
    "# sample with replacement 100 images from each category\n",
    "T = T.groupby('category_name', group_keys=False).apply(lambda x: x.sample(n=100, replace=True))\n",
    "T.reset_index(drop=True, inplace=True)"
   ]
  },
  {
   "cell_type": "code",
   "execution_count": 15,
   "metadata": {},
   "outputs": [
    {
     "data": {
      "text/plain": [
       "25600"
      ]
     },
     "execution_count": 15,
     "metadata": {},
     "output_type": "execute_result"
    }
   ],
   "source": [
    "train_size = len(T)\n",
    "train_size"
   ]
  },
  {
   "cell_type": "code",
   "execution_count": 16,
   "metadata": {},
   "outputs": [
    {
     "name": "stderr",
     "output_type": "stream",
     "text": [
      "25204it [02:54, 144.25it/s]\n"
     ]
    }
   ],
   "source": [
    "# resize RGB images\n",
    "for i, row in tqdm(T.loc[T.channels == 3].iterrows()):\n",
    "    # get image\n",
    "    file_path = os.path.join(train_dir, row.directory, row.img_name)\n",
    "    image = Image.open(file_path)\n",
    "    \n",
    "    # transform it\n",
    "    if class_counts[row.category_name] < 100:\n",
    "        image = train_transform_rare(image)\n",
    "    else:\n",
    "        image = train_transform(image)\n",
    "    \n",
    "    # save\n",
    "    new_image_name = str(i) + '_' + row.img_name\n",
    "    save_path = os.path.join(data_dir, 'train', str(row.category_number), new_image_name)\n",
    "    image.save(save_path, 'jpeg')"
   ]
  },
  {
   "cell_type": "code",
   "execution_count": 17,
   "metadata": {},
   "outputs": [
    {
     "name": "stderr",
     "output_type": "stream",
     "text": [
      "396it [00:01, 239.87it/s]\n"
     ]
    }
   ],
   "source": [
    "# resize grayscale images\n",
    "for i, row in tqdm(T.loc[T.channels == 1].iterrows()):\n",
    "    # get image\n",
    "    file_path = os.path.join(train_dir, row.directory, row.img_name)\n",
    "    image = Image.open(file_path)\n",
    "    \n",
    "    # transform it\n",
    "    if class_counts[row.category_name] < 100:\n",
    "        image = train_transform_rare(image)\n",
    "    else:\n",
    "        image = train_transform(image)\n",
    "    \n",
    "    # convert to RGB\n",
    "    array = np.asarray(image, dtype='uint8')\n",
    "    array = np.stack([array, array, array], axis=2)\n",
    "    image = Image.fromarray(array)\n",
    "    \n",
    "    # save\n",
    "    new_image_name = str(i) + '_' + row.img_name\n",
    "    save_path = os.path.join(data_dir, 'train', str(row.category_number), new_image_name)\n",
    "    image.save(save_path, 'jpeg')"
   ]
  }
 ],
 "metadata": {
  "kernelspec": {
   "display_name": "Python 3 (ipykernel)",
   "language": "python",
   "name": "python3"
  },
  "language_info": {
   "codemirror_mode": {
    "name": "ipython",
    "version": 3
   },
   "file_extension": ".py",
   "mimetype": "text/x-python",
   "name": "python",
   "nbconvert_exporter": "python",
   "pygments_lexer": "ipython3",
   "version": "3.9.12"
  },
  "varInspector": {
   "cols": {
    "lenName": 16,
    "lenType": 16,
    "lenVar": 40
   },
   "kernels_config": {
    "python": {
     "delete_cmd_postfix": "",
     "delete_cmd_prefix": "del ",
     "library": "var_list.py",
     "varRefreshCmd": "print(var_dic_list())"
    },
    "r": {
     "delete_cmd_postfix": ") ",
     "delete_cmd_prefix": "rm(",
     "library": "var_list.r",
     "varRefreshCmd": "cat(var_dic_list()) "
    }
   },
   "types_to_exclude": [
    "module",
    "function",
    "builtin_function_or_method",
    "instance",
    "_Feature"
   ],
   "window_display": false
  }
 },
 "nbformat": 4,
 "nbformat_minor": 2
}
