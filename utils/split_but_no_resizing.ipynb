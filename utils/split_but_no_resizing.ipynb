{
 "cells": [
  {
   "cell_type": "code",
   "execution_count": 4,
   "metadata": {},
   "outputs": [],
   "source": [
    "import numpy as np\n",
    "import pandas as pd\n",
    "\n",
    "from PIL import Image\n",
    "\n",
    "import os\n",
    "from tqdm import tqdm "
   ]
  },
  {
   "cell_type": "code",
   "execution_count": 11,
   "metadata": {},
   "outputs": [],
   "source": [
    "# the folder from 256_ObjectCategories.tar file\n",
    "train_dir = '/home/atik/Documents/Summer_1/data/256_ObjectCategories/'\n",
    "\n",
    "# a folder where resized and split data will be stored\n",
    "data_dir = '/home/atik/Documents/Summer_1/data/'"
   ]
  },
  {
   "cell_type": "markdown",
   "metadata": {},
   "source": [
    "# Load constant train-val split"
   ]
  },
  {
   "cell_type": "code",
   "execution_count": 12,
   "metadata": {},
   "outputs": [
    {
     "name": "stdout",
     "output_type": "stream",
     "text": [
      "   Unnamed: 0           directory      img_name  height  width  channels  \\\n",
      "0           0  175.roulette-wheel  175_0038.jpg     167    248         3   \n",
      "1           1  175.roulette-wheel  175_0010.jpg     251    500         3   \n",
      "2           2  175.roulette-wheel  175_0022.jpg     175    188         3   \n",
      "3           3  175.roulette-wheel  175_0066.jpg     384    512         3   \n",
      "4           4  175.roulette-wheel  175_0011.jpg     253    364         3   \n",
      "\n",
      "   byte_size bit_depth   category_name img_extension  category_number  \n",
      "0     124248     uint8  roulette-wheel           jpg              175  \n",
      "1     376500     uint8  roulette-wheel           jpg              175  \n",
      "2      98700     uint8  roulette-wheel           jpg              175  \n",
      "3     589824     uint8  roulette-wheel           jpg              175  \n",
      "4     276276     uint8  roulette-wheel           jpg              175  \n",
      "***************\n",
      "   Unnamed: 0           directory      img_name  height  width  channels  \\\n",
      "0           0  175.roulette-wheel  175_0001.jpg     167    215         3   \n",
      "1           1  175.roulette-wheel  175_0006.jpg     150    200         3   \n",
      "2           2  175.roulette-wheel  175_0032.jpg     200    299         3   \n",
      "3           3  175.roulette-wheel  175_0061.jpg     247    330         3   \n",
      "4           4  175.roulette-wheel  175_0059.jpg     265    400         3   \n",
      "\n",
      "   byte_size bit_depth   category_name img_extension  category_number  \n",
      "0     107715     uint8  roulette-wheel           jpg              175  \n",
      "1      90000     uint8  roulette-wheel           jpg              175  \n",
      "2     179400     uint8  roulette-wheel           jpg              175  \n",
      "3     244530     uint8  roulette-wheel           jpg              175  \n",
      "4     318000     uint8  roulette-wheel           jpg              175  \n"
     ]
    }
   ],
   "source": [
    "T = pd.read_csv('/home/atik/Documents/Summer_1/train_val_split/train_metadata_no_clutter.csv')\n",
    "V = pd.read_csv('/home/atik/Documents/Summer_1/train_val_split/val_metadata_no_clutter.csv')\n",
    "print(T.head())\n",
    "print(\"*\"*15)\n",
    "print(V.head())"
   ]
  },
  {
   "cell_type": "markdown",
   "metadata": {},
   "source": [
    "# Create directories for different categories"
   ]
  },
  {
   "cell_type": "code",
   "execution_count": 13,
   "metadata": {},
   "outputs": [],
   "source": [
    "try:\n",
    "    os.mkdir(data_dir + 'train_no_resizing')\n",
    "    for i in range(1, 256 + 1):\n",
    "            os.mkdir(data_dir + 'train_no_resizing/' + str(i))\n",
    "except:\n",
    "    pass"
   ]
  },
  {
   "cell_type": "code",
   "execution_count": 14,
   "metadata": {},
   "outputs": [],
   "source": [
    "try:\n",
    "    os.mkdir(data_dir + 'val_no_resizing')\n",
    "    for i in range(1, 256 + 1):\n",
    "        os.mkdir(data_dir + 'val_no_resizing/' + str(i))\n",
    "except:\n",
    "    pass"
   ]
  },
  {
   "cell_type": "markdown",
   "metadata": {},
   "source": [
    "# val. images"
   ]
  },
  {
   "cell_type": "code",
   "execution_count": 15,
   "metadata": {},
   "outputs": [
    {
     "data": {
      "text/plain": [
       "5120"
      ]
     },
     "execution_count": 15,
     "metadata": {},
     "output_type": "execute_result"
    }
   ],
   "source": [
    "val_size = len(V)\n",
    "val_size"
   ]
  },
  {
   "cell_type": "code",
   "execution_count": 16,
   "metadata": {
    "scrolled": true
   },
   "outputs": [
    {
     "name": "stderr",
     "output_type": "stream",
     "text": [
      "5041it [00:06, 785.17it/s] \n"
     ]
    }
   ],
   "source": [
    "# RGB images\n",
    "for i, row in tqdm(V.loc[V.channels == 3].iterrows()):\n",
    "    # get image\n",
    "    file_path = os.path.join(train_dir, row.directory, row.img_name)\n",
    "    image = Image.open(file_path)\n",
    "    \n",
    "    # save\n",
    "    save_path = os.path.join(data_dir, 'val_no_resizing', str(row.category_number), row.img_name)\n",
    "    image.save(save_path, 'jpeg')"
   ]
  },
  {
   "cell_type": "code",
   "execution_count": 17,
   "metadata": {},
   "outputs": [
    {
     "name": "stderr",
     "output_type": "stream",
     "text": [
      "79it [00:00, 544.45it/s]\n"
     ]
    }
   ],
   "source": [
    "# grayscale images\n",
    "for i, row in tqdm(V.loc[V.channels == 1].iterrows()):\n",
    "    # get image\n",
    "    file_path = os.path.join(train_dir, row.directory, row.img_name)\n",
    "    image = Image.open(file_path)\n",
    "    \n",
    "    # convert to RGB\n",
    "    array = np.asarray(image, dtype='uint8')\n",
    "    array = np.stack([array, array, array], axis=2)\n",
    "    image = Image.fromarray(array)\n",
    "    \n",
    "    # save\n",
    "    save_path = os.path.join(data_dir, 'val_no_resizing', str(row.category_number), row.img_name)\n",
    "    image.save(save_path, 'jpeg')"
   ]
  },
  {
   "cell_type": "markdown",
   "metadata": {},
   "source": [
    "# train images"
   ]
  },
  {
   "cell_type": "code",
   "execution_count": 18,
   "metadata": {},
   "outputs": [
    {
     "data": {
      "text/plain": [
       "24660"
      ]
     },
     "execution_count": 18,
     "metadata": {},
     "output_type": "execute_result"
    }
   ],
   "source": [
    "train_size = len(T)\n",
    "train_size"
   ]
  },
  {
   "cell_type": "code",
   "execution_count": 19,
   "metadata": {},
   "outputs": [
    {
     "name": "stderr",
     "output_type": "stream",
     "text": [
      "24317it [00:29, 815.50it/s] \n"
     ]
    }
   ],
   "source": [
    "# RGB images\n",
    "for i, row in tqdm(T.loc[T.channels == 3].iterrows()):\n",
    "    # get image\n",
    "    file_path = os.path.join(train_dir, row.directory, row.img_name)\n",
    "    image = Image.open(file_path)\n",
    "    \n",
    "    # save\n",
    "    save_path = os.path.join(data_dir, 'train_no_resizing', str(row.category_number), row.img_name)\n",
    "    image.save(save_path, 'jpeg')"
   ]
  },
  {
   "cell_type": "code",
   "execution_count": 20,
   "metadata": {},
   "outputs": [
    {
     "name": "stderr",
     "output_type": "stream",
     "text": [
      "343it [00:00, 446.28it/s]\n"
     ]
    }
   ],
   "source": [
    "# grayscale images\n",
    "for i, row in tqdm(T.loc[T.channels == 1].iterrows()):\n",
    "    # get image\n",
    "    file_path = os.path.join(train_dir, row.directory, row.img_name)\n",
    "    image = Image.open(file_path)\n",
    "    \n",
    "    # convert to RGB\n",
    "    array = np.asarray(image, dtype='uint8')\n",
    "    array = np.stack([array, array, array], axis=2)\n",
    "    image = Image.fromarray(array)\n",
    "    \n",
    "    # save\n",
    "    save_path = os.path.join(data_dir, 'train_no_resizing', str(row.category_number), row.img_name)\n",
    "    image.save(save_path, 'jpeg')"
   ]
  }
 ],
 "metadata": {
  "kernelspec": {
   "display_name": "Python 3 (ipykernel)",
   "language": "python",
   "name": "python3"
  },
  "language_info": {
   "codemirror_mode": {
    "name": "ipython",
    "version": 3
   },
   "file_extension": ".py",
   "mimetype": "text/x-python",
   "name": "python",
   "nbconvert_exporter": "python",
   "pygments_lexer": "ipython3",
   "version": "3.9.12"
  },
  "varInspector": {
   "cols": {
    "lenName": 16,
    "lenType": 16,
    "lenVar": 40
   },
   "kernels_config": {
    "python": {
     "delete_cmd_postfix": "",
     "delete_cmd_prefix": "del ",
     "library": "var_list.py",
     "varRefreshCmd": "print(var_dic_list())"
    },
    "r": {
     "delete_cmd_postfix": ") ",
     "delete_cmd_prefix": "rm(",
     "library": "var_list.r",
     "varRefreshCmd": "cat(var_dic_list()) "
    }
   },
   "position": {
    "height": "555.85px",
    "left": "1527px",
    "right": "20px",
    "top": "130px",
    "width": "374px"
   },
   "types_to_exclude": [
    "module",
    "function",
    "builtin_function_or_method",
    "instance",
    "_Feature"
   ],
   "window_display": true
  }
 },
 "nbformat": 4,
 "nbformat_minor": 2
}
