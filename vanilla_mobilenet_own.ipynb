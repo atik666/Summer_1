{
 "cells": [
  {
   "cell_type": "code",
   "execution_count": 1,
   "id": "a0814e96",
   "metadata": {},
   "outputs": [],
   "source": [
    "%load_ext autoreload\n",
    "%autoreload 2"
   ]
  },
  {
   "cell_type": "code",
   "execution_count": 2,
   "id": "cf651fa6",
   "metadata": {
    "scrolled": true
   },
   "outputs": [
    {
     "name": "stdout",
     "output_type": "stream",
     "text": [
      "2.9.1\n",
      "Num of GPUs available:  13\n"
     ]
    },
    {
     "name": "stderr",
     "output_type": "stream",
     "text": [
      "2022-05-24 18:03:29.753418: I tensorflow/core/platform/cpu_feature_guard.cc:193] This TensorFlow binary is optimized with oneAPI Deep Neural Network Library (oneDNN) to use the following CPU instructions in performance-critical operations:  AVX2 FMA\n",
      "To enable them in other operations, rebuild TensorFlow with the appropriate compiler flags.\n",
      "2022-05-24 18:03:29.823051: I tensorflow/stream_executor/cuda/cuda_gpu_executor.cc:975] successful NUMA node read from SysFS had negative value (-1), but there must be at least one NUMA node, so returning NUMA node zero\n",
      "2022-05-24 18:03:29.841210: I tensorflow/stream_executor/cuda/cuda_gpu_executor.cc:975] successful NUMA node read from SysFS had negative value (-1), but there must be at least one NUMA node, so returning NUMA node zero\n",
      "2022-05-24 18:03:29.841633: I tensorflow/stream_executor/cuda/cuda_gpu_executor.cc:975] successful NUMA node read from SysFS had negative value (-1), but there must be at least one NUMA node, so returning NUMA node zero\n",
      "2022-05-24 18:03:30.332136: I tensorflow/stream_executor/cuda/cuda_gpu_executor.cc:975] successful NUMA node read from SysFS had negative value (-1), but there must be at least one NUMA node, so returning NUMA node zero\n",
      "2022-05-24 18:03:30.332437: I tensorflow/stream_executor/cuda/cuda_gpu_executor.cc:975] successful NUMA node read from SysFS had negative value (-1), but there must be at least one NUMA node, so returning NUMA node zero\n",
      "2022-05-24 18:03:30.332698: I tensorflow/stream_executor/cuda/cuda_gpu_executor.cc:975] successful NUMA node read from SysFS had negative value (-1), but there must be at least one NUMA node, so returning NUMA node zero\n",
      "2022-05-24 18:03:30.332950: I tensorflow/core/common_runtime/gpu/gpu_device.cc:1532] Created device /device:GPU:0 with 10091 MB memory:  -> device: 0, name: NVIDIA GeForce RTX 3080 Ti, pci bus id: 0000:01:00.0, compute capability: 8.6\n"
     ]
    }
   ],
   "source": [
    "from tensorflow import keras \n",
    "import tensorflow as tf\n",
    "print(tf.__version__)\n",
    "from tensorflow.keras import optimizers\n",
    "from tensorflow.keras.preprocessing.image import ImageDataGenerator\n",
    "from tensorflow.keras.callbacks import ReduceLROnPlateau, EarlyStopping\n",
    "from tensorflow.keras.applications.mobilenet import preprocess_input\n",
    "from collections import Counter\n",
    "import matplotlib.pyplot as plt\n",
    "%matplotlib inline\n",
    "from collections import Counter\n",
    "from tensorflow.keras.applications.mobilenet import MobileNet\n",
    "print(\"Num of GPUs available: \", len(tf.test.gpu_device_name()))\n",
    "import os\n",
    "import pandas as pd\n",
    "import warnings\n",
    "warnings.filterwarnings(\"ignore\")\n",
    "from PIL import Image"
   ]
  },
  {
   "cell_type": "code",
   "execution_count": 3,
   "id": "9731a5b4",
   "metadata": {},
   "outputs": [
    {
     "name": "stdout",
     "output_type": "stream",
     "text": [
      "Found 25600 images belonging to 256 classes.\n",
      "Found 5120 images belonging to 256 classes.\n"
     ]
    }
   ],
   "source": [
    "datagen = ImageDataGenerator()\n",
    "\n",
    "Path = \"/home/atik/Documents/Summer_1/data/\"\n",
    "train_generator = datagen.flow_from_directory(\n",
    "    directory=Path+\"/train/\",\n",
    "    target_size=(224, 224),\n",
    "    color_mode=\"rgb\",\n",
    "    batch_size=64,\n",
    "    class_mode=\"categorical\",\n",
    "    shuffle=True,\n",
    "    seed=42\n",
    ")\n",
    "\n",
    "val_generator = datagen.flow_from_directory(\n",
    "    directory=Path+\"/val/\",\n",
    "    target_size=(224, 224),\n",
    "    color_mode=\"rgb\",\n",
    "    batch_size=64,\n",
    "    class_mode=\"categorical\",\n",
    "    shuffle=True,\n",
    "    seed=42\n",
    ")\n",
    "counter = Counter(train_generator.classes)"
   ]
  },
  {
   "cell_type": "code",
   "execution_count": 4,
   "id": "e67c38db",
   "metadata": {},
   "outputs": [
    {
     "name": "stderr",
     "output_type": "stream",
     "text": [
      "2022-05-24 18:03:39.793014: I tensorflow/stream_executor/cuda/cuda_gpu_executor.cc:975] successful NUMA node read from SysFS had negative value (-1), but there must be at least one NUMA node, so returning NUMA node zero\n",
      "2022-05-24 18:03:39.793351: I tensorflow/stream_executor/cuda/cuda_gpu_executor.cc:975] successful NUMA node read from SysFS had negative value (-1), but there must be at least one NUMA node, so returning NUMA node zero\n",
      "2022-05-24 18:03:39.793609: I tensorflow/stream_executor/cuda/cuda_gpu_executor.cc:975] successful NUMA node read from SysFS had negative value (-1), but there must be at least one NUMA node, so returning NUMA node zero\n",
      "2022-05-24 18:03:39.793982: I tensorflow/stream_executor/cuda/cuda_gpu_executor.cc:975] successful NUMA node read from SysFS had negative value (-1), but there must be at least one NUMA node, so returning NUMA node zero\n",
      "2022-05-24 18:03:39.794252: I tensorflow/stream_executor/cuda/cuda_gpu_executor.cc:975] successful NUMA node read from SysFS had negative value (-1), but there must be at least one NUMA node, so returning NUMA node zero\n",
      "2022-05-24 18:03:39.794506: I tensorflow/stream_executor/cuda/cuda_gpu_executor.cc:975] successful NUMA node read from SysFS had negative value (-1), but there must be at least one NUMA node, so returning NUMA node zero\n",
      "2022-05-24 18:03:39.794789: I tensorflow/stream_executor/cuda/cuda_gpu_executor.cc:975] successful NUMA node read from SysFS had negative value (-1), but there must be at least one NUMA node, so returning NUMA node zero\n",
      "2022-05-24 18:03:39.795047: I tensorflow/stream_executor/cuda/cuda_gpu_executor.cc:975] successful NUMA node read from SysFS had negative value (-1), but there must be at least one NUMA node, so returning NUMA node zero\n",
      "2022-05-24 18:03:39.795282: I tensorflow/core/common_runtime/gpu/gpu_device.cc:1532] Created device /job:localhost/replica:0/task:0/device:GPU:0 with 10091 MB memory:  -> device: 0, name: NVIDIA GeForce RTX 3080 Ti, pci bus id: 0000:01:00.0, compute capability: 8.6\n"
     ]
    },
    {
     "data": {
      "text/plain": [
       "3491264"
      ]
     },
     "execution_count": 4,
     "metadata": {},
     "output_type": "execute_result"
    }
   ],
   "source": [
    "model = MobileNet(weights=None, classes=len(counter),classifier_activation=\"softmax\")\n",
    "model.count_params()"
   ]
  },
  {
   "cell_type": "code",
   "execution_count": 5,
   "id": "c23daf8e",
   "metadata": {},
   "outputs": [],
   "source": [
    "model.compile(\n",
    "    optimizer=tf.keras.optimizers.SGD(learning_rate=1e-2, momentum=0.9, nesterov=True), \n",
    "    loss='categorical_crossentropy', metrics=['accuracy', 'top_k_categorical_accuracy']\n",
    ")"
   ]
  },
  {
   "cell_type": "code",
   "execution_count": 6,
   "id": "5084df57",
   "metadata": {},
   "outputs": [
    {
     "name": "stdout",
     "output_type": "stream",
     "text": [
      "WARNING:tensorflow:`epsilon` argument is deprecated and will be removed, use `min_delta` instead.\n",
      "Epoch 1/30\n"
     ]
    },
    {
     "name": "stderr",
     "output_type": "stream",
     "text": [
      "2022-05-24 18:03:46.837754: I tensorflow/stream_executor/cuda/cuda_dnn.cc:384] Loaded cuDNN version 8100\n",
      "2022-05-24 18:03:47.551039: I tensorflow/core/platform/default/subprocess.cc:304] Start cannot spawn child process: No such file or directory\n",
      "2022-05-24 18:03:47.551390: I tensorflow/core/platform/default/subprocess.cc:304] Start cannot spawn child process: No such file or directory\n",
      "2022-05-24 18:03:47.551406: W tensorflow/stream_executor/gpu/asm_compiler.cc:80] Couldn't get ptxas version string: INTERNAL: Couldn't invoke ptxas --version\n",
      "2022-05-24 18:03:47.551775: I tensorflow/core/platform/default/subprocess.cc:304] Start cannot spawn child process: No such file or directory\n",
      "2022-05-24 18:03:47.551812: W tensorflow/stream_executor/gpu/redzone_allocator.cc:314] INTERNAL: Failed to launch ptxas\n",
      "Relying on driver to perform ptx compilation. \n",
      "Modify $PATH to customize ptxas location.\n",
      "This message will be only logged once.\n"
     ]
    },
    {
     "name": "stdout",
     "output_type": "stream",
     "text": [
      "400/400 [==============================] - 81s 194ms/step - loss: 5.3333 - accuracy: 0.0264 - top_k_categorical_accuracy: 0.0825 - val_loss: 5.8146 - val_accuracy: 0.0039 - val_top_k_categorical_accuracy: 0.0219 - lr: 0.0100\n",
      "Epoch 2/30\n",
      "400/400 [==============================] - 78s 195ms/step - loss: 4.7530 - accuracy: 0.0759 - top_k_categorical_accuracy: 0.1989 - val_loss: 5.0249 - val_accuracy: 0.0693 - val_top_k_categorical_accuracy: 0.1771 - lr: 0.0100\n",
      "Epoch 3/30\n",
      "400/400 [==============================] - 78s 196ms/step - loss: 4.3189 - accuracy: 0.1275 - top_k_categorical_accuracy: 0.2980 - val_loss: 4.8319 - val_accuracy: 0.0883 - val_top_k_categorical_accuracy: 0.2229 - lr: 0.0100\n",
      "Epoch 4/30\n",
      "400/400 [==============================] - 77s 191ms/step - loss: 3.9213 - accuracy: 0.1785 - top_k_categorical_accuracy: 0.3882 - val_loss: 4.5328 - val_accuracy: 0.1316 - val_top_k_categorical_accuracy: 0.2963 - lr: 0.0100\n",
      "Epoch 5/30\n",
      "400/400 [==============================] - 78s 194ms/step - loss: 3.5416 - accuracy: 0.2345 - top_k_categorical_accuracy: 0.4709 - val_loss: 4.2494 - val_accuracy: 0.1574 - val_top_k_categorical_accuracy: 0.3408 - lr: 0.0100\n",
      "Epoch 6/30\n",
      "400/400 [==============================] - 78s 194ms/step - loss: 3.1734 - accuracy: 0.2969 - top_k_categorical_accuracy: 0.5493 - val_loss: 4.2729 - val_accuracy: 0.1607 - val_top_k_categorical_accuracy: 0.3445 - lr: 0.0100\n",
      "Epoch 7/30\n",
      "400/400 [==============================] - 78s 195ms/step - loss: 2.8184 - accuracy: 0.3597 - top_k_categorical_accuracy: 0.6261 - val_loss: 4.4427 - val_accuracy: 0.1645 - val_top_k_categorical_accuracy: 0.3605 - lr: 0.0100\n",
      "Epoch 8/30\n",
      "400/400 [==============================] - 78s 194ms/step - loss: 2.4922 - accuracy: 0.4216 - top_k_categorical_accuracy: 0.6870 - val_loss: 4.2110 - val_accuracy: 0.1951 - val_top_k_categorical_accuracy: 0.3938 - lr: 0.0100\n",
      "Epoch 9/30\n",
      "400/400 [==============================] - 78s 194ms/step - loss: 2.1674 - accuracy: 0.4891 - top_k_categorical_accuracy: 0.7505 - val_loss: 4.4447 - val_accuracy: 0.1986 - val_top_k_categorical_accuracy: 0.3914 - lr: 0.0100\n",
      "Epoch 10/30\n",
      "400/400 [==============================] - 78s 195ms/step - loss: 1.8674 - accuracy: 0.5528 - top_k_categorical_accuracy: 0.8043 - val_loss: 4.3801 - val_accuracy: 0.2096 - val_top_k_categorical_accuracy: 0.4084 - lr: 0.0100\n",
      "Epoch 11/30\n",
      "400/400 [==============================] - 78s 194ms/step - loss: 1.5686 - accuracy: 0.6221 - top_k_categorical_accuracy: 0.8534 - val_loss: 3.9993 - val_accuracy: 0.2531 - val_top_k_categorical_accuracy: 0.4646 - lr: 0.0100\n",
      "Epoch 12/30\n",
      "400/400 [==============================] - 78s 194ms/step - loss: 1.3057 - accuracy: 0.6821 - top_k_categorical_accuracy: 0.8931 - val_loss: 4.3711 - val_accuracy: 0.2326 - val_top_k_categorical_accuracy: 0.4404 - lr: 0.0100\n",
      "Epoch 13/30\n",
      "400/400 [==============================] - 78s 194ms/step - loss: 1.0473 - accuracy: 0.7470 - top_k_categorical_accuracy: 0.9262 - val_loss: 4.3072 - val_accuracy: 0.2393 - val_top_k_categorical_accuracy: 0.4570 - lr: 0.0100\n",
      "Epoch 14/30\n",
      "400/400 [==============================] - 78s 195ms/step - loss: 0.5691 - accuracy: 0.8864 - top_k_categorical_accuracy: 0.9781 - val_loss: 3.4158 - val_accuracy: 0.3332 - val_top_k_categorical_accuracy: 0.5492 - lr: 1.0000e-03\n",
      "Epoch 15/30\n",
      "400/400 [==============================] - 78s 194ms/step - loss: 0.3974 - accuracy: 0.9395 - top_k_categorical_accuracy: 0.9891 - val_loss: 3.4053 - val_accuracy: 0.3344 - val_top_k_categorical_accuracy: 0.5508 - lr: 1.0000e-03\n",
      "Epoch 16/30\n",
      "400/400 [==============================] - 78s 194ms/step - loss: 0.3257 - accuracy: 0.9579 - top_k_categorical_accuracy: 0.9932 - val_loss: 3.4277 - val_accuracy: 0.3320 - val_top_k_categorical_accuracy: 0.5469 - lr: 1.0000e-03\n",
      "Epoch 17/30\n",
      "400/400 [==============================] - 78s 196ms/step - loss: 0.2751 - accuracy: 0.9708 - top_k_categorical_accuracy: 0.9952 - val_loss: 3.4201 - val_accuracy: 0.3354 - val_top_k_categorical_accuracy: 0.5518 - lr: 1.0000e-04\n",
      "Epoch 18/30\n",
      "400/400 [==============================] - 77s 193ms/step - loss: 0.2705 - accuracy: 0.9725 - top_k_categorical_accuracy: 0.9958 - val_loss: 3.4191 - val_accuracy: 0.3355 - val_top_k_categorical_accuracy: 0.5516 - lr: 1.0000e-04\n"
     ]
    },
    {
     "data": {
      "text/plain": [
       "<keras.callbacks.History at 0x7fe2304359d0>"
      ]
     },
     "execution_count": 6,
     "metadata": {},
     "output_type": "execute_result"
    }
   ],
   "source": [
    "model.fit(\n",
    "    train_generator, \n",
    "    steps_per_epoch=400, epochs=30, verbose=1,\n",
    "    callbacks=[\n",
    "        ReduceLROnPlateau(monitor='val_accuracy', factor=0.1, patience=2, epsilon=0.007),\n",
    "        EarlyStopping(monitor='val_accuracy', patience=4, min_delta=0.01)\n",
    "    ],\n",
    "    validation_data=val_generator, validation_steps=80, workers=4\n",
    ")"
   ]
  },
  {
   "cell_type": "code",
   "execution_count": 7,
   "id": "61df79bc",
   "metadata": {},
   "outputs": [
    {
     "data": {
      "image/png": "[encoded data removed]",
      "text/plain": [
       "<Figure size 432x288 with 1 Axes>"
      ]
     },
     "metadata": {
      "needs_background": "light"
     },
     "output_type": "display_data"
    }
   ],
   "source": [
    "plt.plot(model.history.history['loss'], label='train');\n",
    "plt.plot(model.history.history['val_loss'], label='val');\n",
    "plt.legend();\n",
    "plt.xlabel('epoch');\n",
    "plt.ylabel('logloss');"
   ]
  },
  {
   "cell_type": "code",
   "execution_count": 8,
   "id": "8508ce89",
   "metadata": {},
   "outputs": [
    {
     "data": {
      "image/png": "[encoded data removed]",
      "text/plain": [
       "<Figure size 432x288 with 1 Axes>"
      ]
     },
     "metadata": {
      "needs_background": "light"
     },
     "output_type": "display_data"
    }
   ],
   "source": [
    "plt.plot(model.history.history['accuracy'], label='train');\n",
    "plt.plot(model.history.history['val_accuracy'], label='val');\n",
    "plt.legend();\n",
    "plt.xlabel('epoch');\n",
    "plt.ylabel('accuracy');"
   ]
  },
  {
   "cell_type": "code",
   "execution_count": 9,
   "id": "5b416574",
   "metadata": {},
   "outputs": [
    {
     "data": {
      "image/png": "[encoded data removed]",
      "text/plain": [
       "<Figure size 432x288 with 1 Axes>"
      ]
     },
     "metadata": {
      "needs_background": "light"
     },
     "output_type": "display_data"
    }
   ],
   "source": [
    "plt.plot(model.history.history['top_k_categorical_accuracy'], label='train');\n",
    "plt.plot(model.history.history['val_top_k_categorical_accuracy'], label='val');\n",
    "plt.legend();\n",
    "plt.xlabel('epoch');\n",
    "plt.ylabel('top5_accuracy');"
   ]
  },
  {
   "cell_type": "code",
   "execution_count": 10,
   "id": "d231bffa",
   "metadata": {},
   "outputs": [
    {
     "data": {
      "text/plain": [
       "[3.419069290161133, 0.3355468809604645, 0.551562488079071]"
      ]
     },
     "execution_count": 10,
     "metadata": {},
     "output_type": "execute_result"
    }
   ],
   "source": [
    "model.evaluate_generator(val_generator, 80)"
   ]
  }
 ],
 "metadata": {
  "kernelspec": {
   "display_name": "Python 3 (ipykernel)",
   "language": "python",
   "name": "python3"
  },
  "language_info": {
   "codemirror_mode": {
    "name": "ipython",
    "version": 3
   },
   "file_extension": ".py",
   "mimetype": "text/x-python",
   "name": "python",
   "nbconvert_exporter": "python",
   "pygments_lexer": "ipython3",
   "version": "3.9.0"
  },
  "varInspector": {
   "cols": {
    "lenName": 16,
    "lenType": 16,
    "lenVar": 40
   },
   "kernels_config": {
    "python": {
     "delete_cmd_postfix": "",
     "delete_cmd_prefix": "del ",
     "library": "var_list.py",
     "varRefreshCmd": "print(var_dic_list())"
    },
    "r": {
     "delete_cmd_postfix": ") ",
     "delete_cmd_prefix": "rm(",
     "library": "var_list.r",
     "varRefreshCmd": "cat(var_dic_list()) "
    }
   },
   "position": {
    "height": "421.85px",
    "left": "1539px",
    "right": "20px",
    "top": "131px",
    "width": "350px"
   },
   "types_to_exclude": [
    "module",
    "function",
    "builtin_function_or_method",
    "instance",
    "_Feature"
   ],
   "window_display": true
  }
 },
 "nbformat": 4,
 "nbformat_minor": 5
}
