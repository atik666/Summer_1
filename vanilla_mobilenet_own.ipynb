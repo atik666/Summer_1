{
 "cells": [
  {
   "cell_type": "code",
   "execution_count": 1,
   "id": "a0814e96",
   "metadata": {},
   "outputs": [],
   "source": [
    "%load_ext autoreload\n",
    "%autoreload 2"
   ]
  },
  {
   "cell_type": "code",
   "execution_count": 2,
   "id": "cf651fa6",
   "metadata": {
    "scrolled": true
   },
   "outputs": [
    {
     "name": "stdout",
     "output_type": "stream",
     "text": [
      "2.9.1\n",
      "Num of GPUs available:  13\n"
     ]
    },
    {
     "name": "stderr",
     "output_type": "stream",
     "text": [
      "2022-05-26 14:10:34.811928: I tensorflow/core/platform/cpu_feature_guard.cc:193] This TensorFlow binary is optimized with oneAPI Deep Neural Network Library (oneDNN) to use the following CPU instructions in performance-critical operations:  AVX2 FMA\n",
      "To enable them in other operations, rebuild TensorFlow with the appropriate compiler flags.\n",
      "2022-05-26 14:10:34.850367: I tensorflow/stream_executor/cuda/cuda_gpu_executor.cc:975] successful NUMA node read from SysFS had negative value (-1), but there must be at least one NUMA node, so returning NUMA node zero\n",
      "2022-05-26 14:10:34.853939: I tensorflow/stream_executor/cuda/cuda_gpu_executor.cc:975] successful NUMA node read from SysFS had negative value (-1), but there must be at least one NUMA node, so returning NUMA node zero\n",
      "2022-05-26 14:10:34.854234: I tensorflow/stream_executor/cuda/cuda_gpu_executor.cc:975] successful NUMA node read from SysFS had negative value (-1), but there must be at least one NUMA node, so returning NUMA node zero\n",
      "2022-05-26 14:10:35.166926: I tensorflow/stream_executor/cuda/cuda_gpu_executor.cc:975] successful NUMA node read from SysFS had negative value (-1), but there must be at least one NUMA node, so returning NUMA node zero\n",
      "2022-05-26 14:10:35.167230: I tensorflow/stream_executor/cuda/cuda_gpu_executor.cc:975] successful NUMA node read from SysFS had negative value (-1), but there must be at least one NUMA node, so returning NUMA node zero\n",
      "2022-05-26 14:10:35.167489: I tensorflow/stream_executor/cuda/cuda_gpu_executor.cc:975] successful NUMA node read from SysFS had negative value (-1), but there must be at least one NUMA node, so returning NUMA node zero\n",
      "2022-05-26 14:10:35.167733: I tensorflow/core/common_runtime/gpu/gpu_device.cc:1532] Created device /device:GPU:0 with 10093 MB memory:  -> device: 0, name: NVIDIA GeForce RTX 3080 Ti, pci bus id: 0000:01:00.0, compute capability: 8.6\n"
     ]
    }
   ],
   "source": [
    "from tensorflow import keras \n",
    "import tensorflow as tf\n",
    "print(tf.__version__)\n",
    "from tensorflow.keras import optimizers\n",
    "from tensorflow.keras.preprocessing.image import ImageDataGenerator\n",
    "from tensorflow.keras.callbacks import ReduceLROnPlateau, EarlyStopping\n",
    "from tensorflow.keras.applications.mobilenet import preprocess_input\n",
    "from collections import Counter\n",
    "import matplotlib.pyplot as plt\n",
    "%matplotlib inline\n",
    "from collections import Counter\n",
    "from tensorflow.keras.applications.mobilenet import MobileNet\n",
    "print(\"Num of GPUs available: \", len(tf.test.gpu_device_name()))\n",
    "import os\n",
    "import pandas as pd\n",
    "import warnings\n",
    "warnings.filterwarnings(\"ignore\")\n",
    "from PIL import Image"
   ]
  },
  {
   "cell_type": "code",
   "execution_count": 3,
   "id": "9731a5b4",
   "metadata": {},
   "outputs": [
    {
     "name": "stdout",
     "output_type": "stream",
     "text": [
      "Found 25600 images belonging to 256 classes.\n",
      "Found 5120 images belonging to 256 classes.\n"
     ]
    }
   ],
   "source": [
    "datagen = ImageDataGenerator()\n",
    "\n",
    "Path = \"/home/atik/Documents/Summer_1/data/\"\n",
    "train_generator = datagen.flow_from_directory(\n",
    "    directory=Path+\"/train/\",\n",
    "    target_size=(224, 224),\n",
    "    color_mode=\"rgb\",\n",
    "    batch_size=64,\n",
    "    class_mode=\"categorical\",\n",
    "    shuffle=True,\n",
    "    seed=42\n",
    ")\n",
    "\n",
    "val_generator = datagen.flow_from_directory(\n",
    "    directory=Path+\"/val/\",\n",
    "    target_size=(224, 224),\n",
    "    color_mode=\"rgb\",\n",
    "    batch_size=64,\n",
    "    class_mode=\"categorical\",\n",
    "    shuffle=True,\n",
    "    seed=42\n",
    ")\n",
    "\n",
    "counter = Counter(train_generator.classes)"
   ]
  },
  {
   "cell_type": "code",
   "execution_count": 4,
   "id": "e67c38db",
   "metadata": {},
   "outputs": [
    {
     "name": "stderr",
     "output_type": "stream",
     "text": [
      "2022-05-26 14:10:39.488105: I tensorflow/stream_executor/cuda/cuda_gpu_executor.cc:975] successful NUMA node read from SysFS had negative value (-1), but there must be at least one NUMA node, so returning NUMA node zero\n",
      "2022-05-26 14:10:39.488445: I tensorflow/stream_executor/cuda/cuda_gpu_executor.cc:975] successful NUMA node read from SysFS had negative value (-1), but there must be at least one NUMA node, so returning NUMA node zero\n",
      "2022-05-26 14:10:39.488705: I tensorflow/stream_executor/cuda/cuda_gpu_executor.cc:975] successful NUMA node read from SysFS had negative value (-1), but there must be at least one NUMA node, so returning NUMA node zero\n",
      "2022-05-26 14:10:39.489083: I tensorflow/stream_executor/cuda/cuda_gpu_executor.cc:975] successful NUMA node read from SysFS had negative value (-1), but there must be at least one NUMA node, so returning NUMA node zero\n",
      "2022-05-26 14:10:39.489349: I tensorflow/stream_executor/cuda/cuda_gpu_executor.cc:975] successful NUMA node read from SysFS had negative value (-1), but there must be at least one NUMA node, so returning NUMA node zero\n",
      "2022-05-26 14:10:39.489606: I tensorflow/stream_executor/cuda/cuda_gpu_executor.cc:975] successful NUMA node read from SysFS had negative value (-1), but there must be at least one NUMA node, so returning NUMA node zero\n",
      "2022-05-26 14:10:39.489894: I tensorflow/stream_executor/cuda/cuda_gpu_executor.cc:975] successful NUMA node read from SysFS had negative value (-1), but there must be at least one NUMA node, so returning NUMA node zero\n",
      "2022-05-26 14:10:39.490155: I tensorflow/stream_executor/cuda/cuda_gpu_executor.cc:975] successful NUMA node read from SysFS had negative value (-1), but there must be at least one NUMA node, so returning NUMA node zero\n",
      "2022-05-26 14:10:39.490400: I tensorflow/core/common_runtime/gpu/gpu_device.cc:1532] Created device /job:localhost/replica:0/task:0/device:GPU:0 with 10093 MB memory:  -> device: 0, name: NVIDIA GeForce RTX 3080 Ti, pci bus id: 0000:01:00.0, compute capability: 8.6\n"
     ]
    },
    {
     "data": {
      "text/plain": [
       "3491264"
      ]
     },
     "execution_count": 4,
     "metadata": {},
     "output_type": "execute_result"
    }
   ],
   "source": [
    "model = MobileNet(weights=None, classes=len(counter),classifier_activation=\"softmax\")\n",
    "model.count_params()"
   ]
  },
  {
   "cell_type": "code",
   "execution_count": 5,
   "id": "c23daf8e",
   "metadata": {},
   "outputs": [],
   "source": [
    "model.compile(\n",
    "    optimizer=tf.keras.optimizers.SGD(learning_rate=1e-2, momentum=0.9, nesterov=True), \n",
    "    loss='categorical_crossentropy', metrics=['accuracy', 'top_k_categorical_accuracy']\n",
    ")"
   ]
  },
  {
   "cell_type": "code",
   "execution_count": 6,
   "id": "5084df57",
   "metadata": {},
   "outputs": [
    {
     "name": "stdout",
     "output_type": "stream",
     "text": [
      "WARNING:tensorflow:`epsilon` argument is deprecated and will be removed, use `min_delta` instead.\n",
      "Epoch 1/30\n"
     ]
    },
    {
     "name": "stderr",
     "output_type": "stream",
     "text": [
      "2022-05-26 14:10:45.807470: I tensorflow/stream_executor/cuda/cuda_dnn.cc:384] Loaded cuDNN version 8100\n",
      "2022-05-26 14:10:46.257259: I tensorflow/core/platform/default/subprocess.cc:304] Start cannot spawn child process: No such file or directory\n",
      "2022-05-26 14:10:46.257589: I tensorflow/core/platform/default/subprocess.cc:304] Start cannot spawn child process: No such file or directory\n",
      "2022-05-26 14:10:46.257605: W tensorflow/stream_executor/gpu/asm_compiler.cc:80] Couldn't get ptxas version string: INTERNAL: Couldn't invoke ptxas --version\n",
      "2022-05-26 14:10:46.257857: I tensorflow/core/platform/default/subprocess.cc:304] Start cannot spawn child process: No such file or directory\n",
      "2022-05-26 14:10:46.257889: W tensorflow/stream_executor/gpu/redzone_allocator.cc:314] INTERNAL: Failed to launch ptxas\n",
      "Relying on driver to perform ptx compilation. \n",
      "Modify $PATH to customize ptxas location.\n",
      "This message will be only logged once.\n"
     ]
    },
    {
     "name": "stdout",
     "output_type": "stream",
     "text": [
      "400/400 [==============================] - 81s 194ms/step - loss: 5.3567 - accuracy: 0.0239 - top_k_categorical_accuracy: 0.0785 - val_loss: 5.7444 - val_accuracy: 0.0039 - val_top_k_categorical_accuracy: 0.0209 - lr: 0.0100\n",
      "Epoch 2/30\n",
      "400/400 [==============================] - 78s 194ms/step - loss: 4.8035 - accuracy: 0.0686 - top_k_categorical_accuracy: 0.1884 - val_loss: 5.0008 - val_accuracy: 0.0652 - val_top_k_categorical_accuracy: 0.1771 - lr: 0.0100\n",
      "Epoch 3/30\n",
      "400/400 [==============================] - 77s 193ms/step - loss: 4.3715 - accuracy: 0.1167 - top_k_categorical_accuracy: 0.2865 - val_loss: 4.5462 - val_accuracy: 0.1174 - val_top_k_categorical_accuracy: 0.2654 - lr: 0.0100\n",
      "Epoch 4/30\n",
      "400/400 [==============================] - 78s 194ms/step - loss: 3.9812 - accuracy: 0.1677 - top_k_categorical_accuracy: 0.3705 - val_loss: 4.5987 - val_accuracy: 0.1156 - val_top_k_categorical_accuracy: 0.2799 - lr: 0.0100\n",
      "Epoch 5/30\n",
      "400/400 [==============================] - 78s 194ms/step - loss: 3.6159 - accuracy: 0.2221 - top_k_categorical_accuracy: 0.4531 - val_loss: 4.3636 - val_accuracy: 0.1545 - val_top_k_categorical_accuracy: 0.3379 - lr: 0.0100\n",
      "Epoch 6/30\n",
      "400/400 [==============================] - 78s 194ms/step - loss: 3.2622 - accuracy: 0.2811 - top_k_categorical_accuracy: 0.5347 - val_loss: 4.1146 - val_accuracy: 0.1842 - val_top_k_categorical_accuracy: 0.3709 - lr: 0.0100\n",
      "Epoch 7/30\n",
      "400/400 [==============================] - 77s 193ms/step - loss: 2.9185 - accuracy: 0.3432 - top_k_categorical_accuracy: 0.6031 - val_loss: 4.3450 - val_accuracy: 0.1791 - val_top_k_categorical_accuracy: 0.3725 - lr: 0.0100\n",
      "Epoch 8/30\n",
      "400/400 [==============================] - 77s 193ms/step - loss: 2.5843 - accuracy: 0.4086 - top_k_categorical_accuracy: 0.6703 - val_loss: 4.0973 - val_accuracy: 0.2172 - val_top_k_categorical_accuracy: 0.4127 - lr: 0.0100\n",
      "Epoch 9/30\n",
      "400/400 [==============================] - 78s 195ms/step - loss: 2.2516 - accuracy: 0.4768 - top_k_categorical_accuracy: 0.7353 - val_loss: 4.4336 - val_accuracy: 0.1963 - val_top_k_categorical_accuracy: 0.3951 - lr: 0.0100\n",
      "Epoch 10/30\n",
      "400/400 [==============================] - 77s 192ms/step - loss: 1.9527 - accuracy: 0.5342 - top_k_categorical_accuracy: 0.7894 - val_loss: 4.0228 - val_accuracy: 0.2467 - val_top_k_categorical_accuracy: 0.4393 - lr: 0.0100\n",
      "Epoch 11/30\n",
      "400/400 [==============================] - 78s 194ms/step - loss: 1.6629 - accuracy: 0.6034 - top_k_categorical_accuracy: 0.8370 - val_loss: 4.0374 - val_accuracy: 0.2354 - val_top_k_categorical_accuracy: 0.4547 - lr: 0.0100\n",
      "Epoch 12/30\n",
      "400/400 [==============================] - 78s 194ms/step - loss: 1.3797 - accuracy: 0.6669 - top_k_categorical_accuracy: 0.8803 - val_loss: 4.2314 - val_accuracy: 0.2436 - val_top_k_categorical_accuracy: 0.4645 - lr: 0.0100\n",
      "Epoch 13/30\n",
      "400/400 [==============================] - 78s 194ms/step - loss: 0.8287 - accuracy: 0.8288 - top_k_categorical_accuracy: 0.9528 - val_loss: 3.3859 - val_accuracy: 0.3223 - val_top_k_categorical_accuracy: 0.5422 - lr: 1.0000e-03\n",
      "Epoch 14/30\n",
      "400/400 [==============================] - 78s 194ms/step - loss: 0.6123 - accuracy: 0.8932 - top_k_categorical_accuracy: 0.9741 - val_loss: 3.3852 - val_accuracy: 0.3219 - val_top_k_categorical_accuracy: 0.5445 - lr: 1.0000e-03\n",
      "Epoch 15/30\n",
      "400/400 [==============================] - 78s 194ms/step - loss: 0.5238 - accuracy: 0.9168 - top_k_categorical_accuracy: 0.9819 - val_loss: 3.3961 - val_accuracy: 0.3254 - val_top_k_categorical_accuracy: 0.5455 - lr: 1.0000e-03\n",
      "Epoch 16/30\n",
      "400/400 [==============================] - 78s 194ms/step - loss: 0.4611 - accuracy: 0.9358 - top_k_categorical_accuracy: 0.9875 - val_loss: 3.3970 - val_accuracy: 0.3246 - val_top_k_categorical_accuracy: 0.5451 - lr: 1.0000e-04\n",
      "Epoch 17/30\n",
      "400/400 [==============================] - 77s 193ms/step - loss: 0.4499 - accuracy: 0.9393 - top_k_categorical_accuracy: 0.9877 - val_loss: 3.3967 - val_accuracy: 0.3244 - val_top_k_categorical_accuracy: 0.5471 - lr: 1.0000e-04\n"
     ]
    },
    {
     "data": {
      "text/plain": [
       "<keras.callbacks.History at 0x7fb4e427bcd0>"
      ]
     },
     "execution_count": 6,
     "metadata": {},
     "output_type": "execute_result"
    }
   ],
   "source": [
    "model.fit(\n",
    "    train_generator, \n",
    "    steps_per_epoch=400, epochs=30, verbose=1,\n",
    "    callbacks=[\n",
    "        ReduceLROnPlateau(monitor='val_accuracy', factor=0.1, patience=2, epsilon=0.007),\n",
    "        EarlyStopping(monitor='val_accuracy', patience=4, min_delta=0.01)\n",
    "    ],\n",
    "    validation_data=val_generator, validation_steps=80, workers=4\n",
    ")"
   ]
  },
  {
   "cell_type": "code",
   "execution_count": 7,
   "id": "61df79bc",
   "metadata": {},
   "outputs": [
    {
     "data": {
      "image/png": "[encoded data removed]",
      "text/plain": [
       "<Figure size 432x288 with 1 Axes>"
      ]
     },
     "metadata": {
      "needs_background": "light"
     },
     "output_type": "display_data"
    }
   ],
   "source": [
    "plt.plot(model.history.history['loss'], label='train');\n",
    "plt.plot(model.history.history['val_loss'], label='val');\n",
    "plt.legend();\n",
    "plt.xlabel('epoch');\n",
    "plt.ylabel('logloss');"
   ]
  },
  {
   "cell_type": "code",
   "execution_count": 8,
   "id": "8508ce89",
   "metadata": {},
   "outputs": [
    {
     "data": {
      "image/png": "[encoded data removed]",
      "text/plain": [
       "<Figure size 432x288 with 1 Axes>"
      ]
     },
     "metadata": {
      "needs_background": "light"
     },
     "output_type": "display_data"
    }
   ],
   "source": [
    "plt.plot(model.history.history['accuracy'], label='train');\n",
    "plt.plot(model.history.history['val_accuracy'], label='val');\n",
    "plt.legend();\n",
    "plt.xlabel('epoch');\n",
    "plt.ylabel('accuracy');"
   ]
  },
  {
   "cell_type": "code",
   "execution_count": 9,
   "id": "5b416574",
   "metadata": {},
   "outputs": [
    {
     "data": {
      "image/png": "[encoded data removed]",
      "text/plain": [
       "<Figure size 432x288 with 1 Axes>"
      ]
     },
     "metadata": {
      "needs_background": "light"
     },
     "output_type": "display_data"
    }
   ],
   "source": [
    "plt.plot(model.history.history['top_k_categorical_accuracy'], label='train');\n",
    "plt.plot(model.history.history['val_top_k_categorical_accuracy'], label='val');\n",
    "plt.legend();\n",
    "plt.xlabel('epoch');\n",
    "plt.ylabel('top5_accuracy');"
   ]
  },
  {
   "cell_type": "code",
   "execution_count": 10,
   "id": "d231bffa",
   "metadata": {},
   "outputs": [
    {
     "data": {
      "text/plain": [
       "[3.3966503143310547, 0.32441407442092896, 0.547070324420929]"
      ]
     },
     "execution_count": 10,
     "metadata": {},
     "output_type": "execute_result"
    }
   ],
   "source": [
    "model.evaluate_generator(val_generator, 80)"
   ]
  },
  {
   "cell_type": "code",
   "execution_count": null,
   "id": "9e7bbb41",
   "metadata": {},
   "outputs": [],
   "source": []
  }
 ],
 "metadata": {
  "kernelspec": {
   "display_name": "Python 3 (ipykernel)",
   "language": "python",
   "name": "python3"
  },
  "language_info": {
   "codemirror_mode": {
    "name": "ipython",
    "version": 3
   },
   "file_extension": ".py",
   "mimetype": "text/x-python",
   "name": "python",
   "nbconvert_exporter": "python",
   "pygments_lexer": "ipython3",
   "version": "3.9.12"
  },
  "varInspector": {
   "cols": {
    "lenName": 16,
    "lenType": 16,
    "lenVar": 40
   },
   "kernels_config": {
    "python": {
     "delete_cmd_postfix": "",
     "delete_cmd_prefix": "del ",
     "library": "var_list.py",
     "varRefreshCmd": "print(var_dic_list())"
    },
    "r": {
     "delete_cmd_postfix": ") ",
     "delete_cmd_prefix": "rm(",
     "library": "var_list.r",
     "varRefreshCmd": "cat(var_dic_list()) "
    }
   },
   "position": {
    "height": "421.85px",
    "left": "1539px",
    "right": "20px",
    "top": "131px",
    "width": "350px"
   },
   "types_to_exclude": [
    "module",
    "function",
    "builtin_function_or_method",
    "instance",
    "_Feature"
   ],
   "window_display": true
  }
 },
 "nbformat": 4,
 "nbformat_minor": 5
}
