{
 "cells": [
  {
   "cell_type": "code",
   "execution_count": 20,
   "id": "6c733687",
   "metadata": {},
   "outputs": [
    {
     "name": "stdout",
     "output_type": "stream",
     "text": [
      "The autoreload extension is already loaded. To reload it, use:\n",
      "  %reload_ext autoreload\n"
     ]
    }
   ],
   "source": [
    "%load_ext autoreload\n",
    "%autoreload 2"
   ]
  },
  {
   "cell_type": "code",
   "execution_count": 21,
   "id": "38dd2c96",
   "metadata": {},
   "outputs": [
    {
     "name": "stdout",
     "output_type": "stream",
     "text": [
      "2.9.1\n",
      "Num of GPUs available:  13\n"
     ]
    },
    {
     "name": "stderr",
     "output_type": "stream",
     "text": [
      "2022-05-26 13:22:53.613542: I tensorflow/stream_executor/cuda/cuda_gpu_executor.cc:975] successful NUMA node read from SysFS had negative value (-1), but there must be at least one NUMA node, so returning NUMA node zero\n",
      "2022-05-26 13:22:53.613829: I tensorflow/stream_executor/cuda/cuda_gpu_executor.cc:975] successful NUMA node read from SysFS had negative value (-1), but there must be at least one NUMA node, so returning NUMA node zero\n",
      "2022-05-26 13:22:53.614030: I tensorflow/stream_executor/cuda/cuda_gpu_executor.cc:975] successful NUMA node read from SysFS had negative value (-1), but there must be at least one NUMA node, so returning NUMA node zero\n",
      "2022-05-26 13:22:53.614278: I tensorflow/stream_executor/cuda/cuda_gpu_executor.cc:975] successful NUMA node read from SysFS had negative value (-1), but there must be at least one NUMA node, so returning NUMA node zero\n",
      "2022-05-26 13:22:53.614479: I tensorflow/stream_executor/cuda/cuda_gpu_executor.cc:975] successful NUMA node read from SysFS had negative value (-1), but there must be at least one NUMA node, so returning NUMA node zero\n",
      "2022-05-26 13:22:53.614653: I tensorflow/core/common_runtime/gpu/gpu_device.cc:1532] Created device /device:GPU:0 with 10093 MB memory:  -> device: 0, name: NVIDIA GeForce RTX 3080 Ti, pci bus id: 0000:01:00.0, compute capability: 8.6\n"
     ]
    }
   ],
   "source": [
    "from tensorflow import keras \n",
    "import tensorflow as tf\n",
    "print(tf.__version__)\n",
    "from tensorflow.keras import optimizers\n",
    "from tensorflow.keras.preprocessing.image import ImageDataGenerator\n",
    "from tensorflow.keras.callbacks import ReduceLROnPlateau, EarlyStopping\n",
    "from tensorflow.keras.applications.mobilenet import preprocess_input\n",
    "from collections import Counter\n",
    "import matplotlib.pyplot as plt\n",
    "%matplotlib inline\n",
    "from collections import Counter\n",
    "from tensorflow.keras.applications.vgg19 import VGG19\n",
    "print(\"Num of GPUs available: \", len(tf.test.gpu_device_name()))\n",
    "import os\n",
    "import pandas as pd\n",
    "import warnings\n",
    "warnings.filterwarnings(\"ignore\")\n",
    "from PIL import Image"
   ]
  },
  {
   "cell_type": "code",
   "execution_count": 22,
   "id": "72349a9f",
   "metadata": {},
   "outputs": [
    {
     "name": "stdout",
     "output_type": "stream",
     "text": [
      "Found 25600 images belonging to 256 classes.\n",
      "Found 5120 images belonging to 256 classes.\n"
     ]
    }
   ],
   "source": [
    "datagen = ImageDataGenerator()\n",
    "\n",
    "Path = \"/home/atik/Documents/Summer_1/data/\"\n",
    "train_generator = datagen.flow_from_directory(\n",
    "    directory=Path+\"/train/\",\n",
    "    target_size=(224, 224),\n",
    "    color_mode=\"rgb\",\n",
    "    batch_size=64,\n",
    "    class_mode=\"categorical\",\n",
    "    shuffle=True,\n",
    "    seed=42\n",
    ")\n",
    "\n",
    "val_generator = datagen.flow_from_directory(\n",
    "    directory=Path+\"/val/\",\n",
    "    target_size=(224, 224),\n",
    "    color_mode=\"rgb\",\n",
    "    batch_size=64,\n",
    "    class_mode=\"categorical\",\n",
    "    shuffle=True,\n",
    "    seed=42\n",
    ")\n",
    "counter = Counter(train_generator.classes)\n",
    "img, _ = train_generator.next()\n",
    "img = np.array(img[0])\n",
    "shape = np.shape(img)\n",
    "#print(Counter(val_generator.classes).items())"
   ]
  },
  {
   "cell_type": "markdown",
   "id": "0f7a2eef",
   "metadata": {},
   "source": [
    "# Model"
   ]
  },
  {
   "cell_type": "code",
   "execution_count": 39,
   "id": "6f93dab3",
   "metadata": {},
   "outputs": [
    {
     "data": {
      "text/plain": [
       "140619072"
      ]
     },
     "execution_count": 39,
     "metadata": {},
     "output_type": "execute_result"
    }
   ],
   "source": [
    "model = VGG19(weights=None, include_top=True,\n",
    "              input_shape=shape, classes=len(counter)) # None if randomly initialized wieghts\n",
    "model.count_params()"
   ]
  },
  {
   "cell_type": "markdown",
   "id": "16b83115",
   "metadata": {},
   "source": [
    "# Training"
   ]
  },
  {
   "cell_type": "code",
   "execution_count": 40,
   "id": "2c02459a",
   "metadata": {},
   "outputs": [],
   "source": [
    "model.compile(\n",
    "    optimizer=tf.keras.optimizers.SGD(learning_rate=1e-2, momentum=0.9, nesterov=True), \n",
    "    loss='categorical_crossentropy', metrics=['accuracy', 'top_k_categorical_accuracy']\n",
    ")"
   ]
  },
  {
   "cell_type": "code",
   "execution_count": 41,
   "id": "2480fc85",
   "metadata": {},
   "outputs": [
    {
     "name": "stdout",
     "output_type": "stream",
     "text": [
      "WARNING:tensorflow:`epsilon` argument is deprecated and will be removed, use `min_delta` instead.\n",
      "Epoch 1/30\n",
      "400/400 [==============================] - 111s 276ms/step - loss: 5.5453 - accuracy: 0.0041 - top_k_categorical_accuracy: 0.0185 - val_loss: 5.5355 - val_accuracy: 0.0043 - val_top_k_categorical_accuracy: 0.0248 - lr: 0.0100\n",
      "Epoch 2/30\n",
      "400/400 [==============================] - 111s 277ms/step - loss: 5.5425 - accuracy: 0.0036 - top_k_categorical_accuracy: 0.0182 - val_loss: 5.5452 - val_accuracy: 0.0039 - val_top_k_categorical_accuracy: 0.0195 - lr: 0.0100\n",
      "Epoch 3/30\n",
      "400/400 [==============================] - 111s 278ms/step - loss: 5.5441 - accuracy: 0.0033 - top_k_categorical_accuracy: 0.0169 - val_loss: 5.5452 - val_accuracy: 0.0039 - val_top_k_categorical_accuracy: 0.0193 - lr: 0.0100\n",
      "Epoch 4/30\n",
      "400/400 [==============================] - 112s 280ms/step - loss: 5.5461 - accuracy: 0.0036 - top_k_categorical_accuracy: 0.0164 - val_loss: 5.5374 - val_accuracy: 0.0080 - val_top_k_categorical_accuracy: 0.0307 - lr: 0.0100\n",
      "Epoch 5/30\n",
      "400/400 [==============================] - 112s 280ms/step - loss: 5.5455 - accuracy: 0.0029 - top_k_categorical_accuracy: 0.0159 - val_loss: 5.5449 - val_accuracy: 0.0057 - val_top_k_categorical_accuracy: 0.0193 - lr: 0.0100\n",
      "Epoch 6/30\n",
      "400/400 [==============================] - 112s 280ms/step - loss: 5.5446 - accuracy: 0.0032 - top_k_categorical_accuracy: 0.0172 - val_loss: 5.5452 - val_accuracy: 0.0039 - val_top_k_categorical_accuracy: 0.0195 - lr: 0.0100\n",
      "Epoch 7/30\n",
      "400/400 [==============================] - 112s 281ms/step - loss: 5.5461 - accuracy: 0.0030 - top_k_categorical_accuracy: 0.0155 - val_loss: 5.5452 - val_accuracy: 0.0037 - val_top_k_categorical_accuracy: 0.0195 - lr: 0.0100\n",
      "Epoch 8/30\n",
      "400/400 [==============================] - 111s 278ms/step - loss: 5.5440 - accuracy: 0.0035 - top_k_categorical_accuracy: 0.0181 - val_loss: 5.5452 - val_accuracy: 0.0039 - val_top_k_categorical_accuracy: 0.0195 - lr: 0.0100\n",
      "Epoch 9/30\n",
      "400/400 [==============================] - 111s 279ms/step - loss: 5.5461 - accuracy: 0.0033 - top_k_categorical_accuracy: 0.0161 - val_loss: 5.5452 - val_accuracy: 0.0039 - val_top_k_categorical_accuracy: 0.0195 - lr: 0.0100\n",
      "Epoch 10/30\n",
      "400/400 [==============================] - 112s 279ms/step - loss: 5.5461 - accuracy: 0.0029 - top_k_categorical_accuracy: 0.0153 - val_loss: 5.5452 - val_accuracy: 0.0039 - val_top_k_categorical_accuracy: 0.0195 - lr: 0.0100\n",
      "Epoch 11/30\n",
      "400/400 [==============================] - 112s 279ms/step - loss: 5.5460 - accuracy: 0.0030 - top_k_categorical_accuracy: 0.0146 - val_loss: 5.5452 - val_accuracy: 0.0039 - val_top_k_categorical_accuracy: 0.0195 - lr: 0.0100\n"
     ]
    },
    {
     "data": {
      "text/plain": [
       "<keras.callbacks.History at 0x7f25c047b3a0>"
      ]
     },
     "execution_count": 41,
     "metadata": {},
     "output_type": "execute_result"
    }
   ],
   "source": [
    "model.fit(\n",
    "    train_generator, \n",
    "    steps_per_epoch=400, epochs=30, verbose=1,\n",
    "    callbacks=[\n",
    "        ReduceLROnPlateau(monitor='val_accuracy', factor=0.1, patience=10, epsilon=0.007),\n",
    "        EarlyStopping(monitor='val_accuracy', patience=10, min_delta=0.01)\n",
    "    ],\n",
    "    validation_data=val_generator, validation_steps=80, workers=4\n",
    ")"
   ]
  },
  {
   "cell_type": "markdown",
   "id": "1dd19403",
   "metadata": {},
   "source": [
    "# Loss/epoch plots"
   ]
  },
  {
   "cell_type": "code",
   "execution_count": 14,
   "id": "57ae60e8",
   "metadata": {},
   "outputs": [
    {
     "data": {
      "image/png": "[encoded data removed]",
      "text/plain": [
       "<Figure size 432x288 with 1 Axes>"
      ]
     },
     "metadata": {
      "needs_background": "light"
     },
     "output_type": "display_data"
    }
   ],
   "source": [
    "plt.plot(model.history.history['loss'], label='train');\n",
    "plt.plot(model.history.history['val_loss'], label='val');\n",
    "plt.legend();\n",
    "plt.xlabel('epoch');\n",
    "plt.ylabel('logloss');"
   ]
  },
  {
   "cell_type": "code",
   "execution_count": 15,
   "id": "42e23f32",
   "metadata": {},
   "outputs": [
    {
     "data": {
      "image/png": "[encoded data removed]",
      "text/plain": [
       "<Figure size 432x288 with 1 Axes>"
      ]
     },
     "metadata": {
      "needs_background": "light"
     },
     "output_type": "display_data"
    }
   ],
   "source": [
    "plt.plot(model.history.history['accuracy'], label='train');\n",
    "plt.plot(model.history.history['val_accuracy'], label='val');\n",
    "plt.legend();\n",
    "plt.xlabel('epoch');\n",
    "plt.ylabel('accuracy');"
   ]
  },
  {
   "cell_type": "code",
   "execution_count": 16,
   "id": "b41e1b4b",
   "metadata": {},
   "outputs": [
    {
     "data": {
      "image/png": "[encoded data removed]",
      "text/plain": [
       "<Figure size 432x288 with 1 Axes>"
      ]
     },
     "metadata": {
      "needs_background": "light"
     },
     "output_type": "display_data"
    }
   ],
   "source": [
    "plt.plot(model.history.history['top_k_categorical_accuracy'], label='train');\n",
    "plt.plot(model.history.history['val_top_k_categorical_accuracy'], label='val');\n",
    "plt.legend();\n",
    "plt.xlabel('epoch');\n",
    "plt.ylabel('top5_accuracy');"
   ]
  },
  {
   "cell_type": "code",
   "execution_count": 17,
   "id": "2083d13a",
   "metadata": {},
   "outputs": [
    {
     "data": {
      "text/plain": [
       "[9.674962997436523, 0.10390625149011612, 0.22402343153953552]"
      ]
     },
     "execution_count": 17,
     "metadata": {},
     "output_type": "execute_result"
    }
   ],
   "source": [
    "model.evaluate_generator(val_generator, 80)"
   ]
  }
 ],
 "metadata": {
  "kernelspec": {
   "display_name": "Python (tf)",
   "language": "python",
   "name": "tf"
  },
  "language_info": {
   "codemirror_mode": {
    "name": "ipython",
    "version": 3
   },
   "file_extension": ".py",
   "mimetype": "text/x-python",
   "name": "python",
   "nbconvert_exporter": "python",
   "pygments_lexer": "ipython3",
   "version": "3.9.12"
  },
  "varInspector": {
   "cols": {
    "lenName": 16,
    "lenType": 16,
    "lenVar": 40
   },
   "kernels_config": {
    "python": {
     "delete_cmd_postfix": "",
     "delete_cmd_prefix": "del ",
     "library": "var_list.py",
     "varRefreshCmd": "print(var_dic_list())"
    },
    "r": {
     "delete_cmd_postfix": ") ",
     "delete_cmd_prefix": "rm(",
     "library": "var_list.r",
     "varRefreshCmd": "cat(var_dic_list()) "
    }
   },
   "position": {
    "height": "506.85px",
    "left": "1496px",
    "right": "20px",
    "top": "115px",
    "width": "344px"
   },
   "types_to_exclude": [
    "module",
    "function",
    "builtin_function_or_method",
    "instance",
    "_Feature"
   ],
   "window_display": true
  }
 },
 "nbformat": 4,
 "nbformat_minor": 5
}
